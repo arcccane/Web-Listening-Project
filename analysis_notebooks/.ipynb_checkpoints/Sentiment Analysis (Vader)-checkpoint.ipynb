{
 "cells": [
  {
   "cell_type": "markdown",
   "id": "cea69234",
   "metadata": {},
   "source": [
    "<h1>Sentiment Analysis</h1>\n",
    "\n",
    "<p>Sentiment analysis is the practice of using algorithms to classify various samples of related text into overall positive and negative categories.</p>\n",
    "\n",
    "<p>Using Natural Language Toolkit's (NLTK) Sentiment Intensity Analyzer, we are able to determine the ratio of positive to negative engagements about a specific topic.</p>"
   ]
  },
  {
   "cell_type": "code",
   "execution_count": 1,
   "id": "d111286d",
   "metadata": {
    "execution": {
     "iopub.execute_input": "2022-05-23T06:15:44.323424Z",
     "iopub.status.busy": "2022-05-23T06:15:44.322428Z",
     "iopub.status.idle": "2022-05-23T06:15:45.868470Z",
     "shell.execute_reply": "2022-05-23T06:15:45.868470Z"
    }
   },
   "outputs": [
    {
     "name": "stderr",
     "output_type": "stream",
     "text": [
      "[nltk_data] Downloading package vader_lexicon to\n",
      "[nltk_data]     C:\\Users\\ronal\\AppData\\Roaming\\nltk_data...\n",
      "[nltk_data]   Package vader_lexicon is already up-to-date!\n"
     ]
    },
    {
     "data": {
      "text/plain": [
       "True"
      ]
     },
     "execution_count": 1,
     "metadata": {},
     "output_type": "execute_result"
    }
   ],
   "source": [
    "import pandas as pd\n",
    "import nltk\n",
    "import datetime\n",
    "\n",
    "from nltk.sentiment.vader import SentimentIntensityAnalyzer\n",
    "nltk.download('vader_lexicon')"
   ]
  },
  {
   "cell_type": "code",
   "execution_count": 2,
   "id": "ae7ba9b6",
   "metadata": {
    "execution": {
     "iopub.execute_input": "2022-05-23T06:15:45.871461Z",
     "iopub.status.busy": "2022-05-23T06:15:45.871461Z",
     "iopub.status.idle": "2022-05-23T06:15:46.073727Z",
     "shell.execute_reply": "2022-05-23T06:15:46.074724Z"
    }
   },
   "outputs": [
    {
     "data": {
      "text/html": [
       "<div>\n",
       "<style scoped>\n",
       "    .dataframe tbody tr th:only-of-type {\n",
       "        vertical-align: middle;\n",
       "    }\n",
       "\n",
       "    .dataframe tbody tr th {\n",
       "        vertical-align: top;\n",
       "    }\n",
       "\n",
       "    .dataframe thead th {\n",
       "        text-align: right;\n",
       "    }\n",
       "</style>\n",
       "<table border=\"1\" class=\"dataframe\">\n",
       "  <thead>\n",
       "    <tr style=\"text-align: right;\">\n",
       "      <th></th>\n",
       "      <th>platform</th>\n",
       "      <th>date</th>\n",
       "      <th>body</th>\n",
       "      <th>token_words</th>\n",
       "      <th>lemmatized</th>\n",
       "      <th>clean_body</th>\n",
       "      <th>label</th>\n",
       "    </tr>\n",
       "  </thead>\n",
       "  <tbody>\n",
       "    <tr>\n",
       "      <th>0</th>\n",
       "      <td>Twitter</td>\n",
       "      <td>30-12-2021 18:38:04</td>\n",
       "      <td>adidas Yeezy Boost 350 V2 “Dazzling Blue” 👟\\n\\...</td>\n",
       "      <td>['adidas', 'yeezy', 'boost', 'dazzling', 'blue...</td>\n",
       "      <td>['adidas', 'yeezy', 'boost', 'dazzling', 'blue...</td>\n",
       "      <td>yeezy boost dazzling blue coming yankeekicks ig</td>\n",
       "      <td>adidas</td>\n",
       "    </tr>\n",
       "    <tr>\n",
       "      <th>1</th>\n",
       "      <td>Twitter</td>\n",
       "      <td>30-12-2021 17:43:37</td>\n",
       "      <td>Am over the worst of Omicron. Alhumdullilah. I...</td>\n",
       "      <td>['worst', 'omicron', 'alhumdullilah', 'cupcake...</td>\n",
       "      <td>['worst', 'omicron', 'alhumdullilah', 'cupcake...</td>\n",
       "      <td>worst omicron alhumdullilah cupcake breakfast ...</td>\n",
       "      <td>adidas</td>\n",
       "    </tr>\n",
       "    <tr>\n",
       "      <th>2</th>\n",
       "      <td>Twitter</td>\n",
       "      <td>30-12-2021 06:28:19</td>\n",
       "      <td>🎁 I'm blessing 1 follower with life changing N...</td>\n",
       "      <td>['blessing', 'follower', 'life', 'changing', '...</td>\n",
       "      <td>['blessing', 'follower', 'life', 'changing', '...</td>\n",
       "      <td>blessing follower life changing nfts hour orig...</td>\n",
       "      <td>adidas</td>\n",
       "    </tr>\n",
       "    <tr>\n",
       "      <th>3</th>\n",
       "      <td>Twitter</td>\n",
       "      <td>29-12-2021 22:31:57</td>\n",
       "      <td>South Park and adidas have a new “Professor Ch...</td>\n",
       "      <td>['south', 'park', 'adidas', 'professor', 'chao...</td>\n",
       "      <td>['south', 'park', 'adidas', 'professor', 'chao...</td>\n",
       "      <td>south park  professor chaos nmd releasing</td>\n",
       "      <td>adidas</td>\n",
       "    </tr>\n",
       "    <tr>\n",
       "      <th>4</th>\n",
       "      <td>Twitter</td>\n",
       "      <td>29-12-2021 19:29:20</td>\n",
       "      <td>Please patronise me, I sell Adidas shoes for 1...</td>\n",
       "      <td>['patronise', 'sell', 'adidas', 'shoes', 'fake...</td>\n",
       "      <td>['patronise', 'sell', 'adidas', 'shoe', 'fake'...</td>\n",
       "      <td>patronise sell  shoe fake walk fast notice</td>\n",
       "      <td>adidas</td>\n",
       "    </tr>\n",
       "    <tr>\n",
       "      <th>...</th>\n",
       "      <td>...</td>\n",
       "      <td>...</td>\n",
       "      <td>...</td>\n",
       "      <td>...</td>\n",
       "      <td>...</td>\n",
       "      <td>...</td>\n",
       "      <td>...</td>\n",
       "    </tr>\n",
       "    <tr>\n",
       "      <th>18222</th>\n",
       "      <td>HardwareZone</td>\n",
       "      <td>23-10-2021 13:02:06</td>\n",
       "      <td>How do you determine your shoe sizes? Planning...</td>\n",
       "      <td>['determine', 'shoe', 'sizes', 'planning', 'bu...</td>\n",
       "      <td>['determine', 'shoe', 'size', 'planning', 'buy...</td>\n",
       "      <td>determine shoe size planning buy  court royale...</td>\n",
       "      <td>nike</td>\n",
       "    </tr>\n",
       "    <tr>\n",
       "      <th>18223</th>\n",
       "      <td>HardwareZone</td>\n",
       "      <td>23-10-2021 14:50:44</td>\n",
       "      <td>best is go nike and try it on lo.</td>\n",
       "      <td>['nike', 'lo']</td>\n",
       "      <td>['nike', 'lo']</td>\n",
       "      <td>lo</td>\n",
       "      <td>nike</td>\n",
       "    </tr>\n",
       "    <tr>\n",
       "      <th>18224</th>\n",
       "      <td>HardwareZone</td>\n",
       "      <td>23-10-2021 14:59:00</td>\n",
       "      <td>foo9883 said:\\nbest is go nike and try it on l...</td>\n",
       "      <td>['foo', 'nike', 'lo', 'big', 'sizes', 'online'...</td>\n",
       "      <td>['foo', 'nike', 'lo', 'big', 'size', 'online',...</td>\n",
       "      <td>foo  lo big size online  cutting small</td>\n",
       "      <td>nike</td>\n",
       "    </tr>\n",
       "    <tr>\n",
       "      <th>18225</th>\n",
       "      <td>HardwareZone</td>\n",
       "      <td>01-11-2021 13:04:57</td>\n",
       "      <td>Nike Court Royal is not a rare shoe. Just go t...</td>\n",
       "      <td>['nike', 'court', 'royal', 'rare', 'shoe', 'sh...</td>\n",
       "      <td>['nike', 'court', 'royal', 'rare', 'shoe', 'sh...</td>\n",
       "      <td>court royal rare shoe shop cm size jog regular...</td>\n",
       "      <td>adidas and nike</td>\n",
       "    </tr>\n",
       "    <tr>\n",
       "      <th>18226</th>\n",
       "      <td>HardwareZone</td>\n",
       "      <td>01-11-2021 13:18:04</td>\n",
       "      <td>winningeleven said:\\nNike Court Royal is not a...</td>\n",
       "      <td>['winningeleven', 'nike', 'court', 'royal', 'r...</td>\n",
       "      <td>['winningeleven', 'nike', 'court', 'royal', 'r...</td>\n",
       "      <td>winningeleven  court royal rare shoe shop cm s...</td>\n",
       "      <td>adidas and nike</td>\n",
       "    </tr>\n",
       "  </tbody>\n",
       "</table>\n",
       "<p>18227 rows × 7 columns</p>\n",
       "</div>"
      ],
      "text/plain": [
       "           platform                 date  \\\n",
       "0           Twitter  30-12-2021 18:38:04   \n",
       "1           Twitter  30-12-2021 17:43:37   \n",
       "2           Twitter  30-12-2021 06:28:19   \n",
       "3           Twitter  29-12-2021 22:31:57   \n",
       "4           Twitter  29-12-2021 19:29:20   \n",
       "...             ...                  ...   \n",
       "18222  HardwareZone  23-10-2021 13:02:06   \n",
       "18223  HardwareZone  23-10-2021 14:50:44   \n",
       "18224  HardwareZone  23-10-2021 14:59:00   \n",
       "18225  HardwareZone  01-11-2021 13:04:57   \n",
       "18226  HardwareZone  01-11-2021 13:18:04   \n",
       "\n",
       "                                                    body  \\\n",
       "0      adidas Yeezy Boost 350 V2 “Dazzling Blue” 👟\\n\\...   \n",
       "1      Am over the worst of Omicron. Alhumdullilah. I...   \n",
       "2      🎁 I'm blessing 1 follower with life changing N...   \n",
       "3      South Park and adidas have a new “Professor Ch...   \n",
       "4      Please patronise me, I sell Adidas shoes for 1...   \n",
       "...                                                  ...   \n",
       "18222  How do you determine your shoe sizes? Planning...   \n",
       "18223                  best is go nike and try it on lo.   \n",
       "18224  foo9883 said:\\nbest is go nike and try it on l...   \n",
       "18225  Nike Court Royal is not a rare shoe. Just go t...   \n",
       "18226  winningeleven said:\\nNike Court Royal is not a...   \n",
       "\n",
       "                                             token_words  \\\n",
       "0      ['adidas', 'yeezy', 'boost', 'dazzling', 'blue...   \n",
       "1      ['worst', 'omicron', 'alhumdullilah', 'cupcake...   \n",
       "2      ['blessing', 'follower', 'life', 'changing', '...   \n",
       "3      ['south', 'park', 'adidas', 'professor', 'chao...   \n",
       "4      ['patronise', 'sell', 'adidas', 'shoes', 'fake...   \n",
       "...                                                  ...   \n",
       "18222  ['determine', 'shoe', 'sizes', 'planning', 'bu...   \n",
       "18223                                     ['nike', 'lo']   \n",
       "18224  ['foo', 'nike', 'lo', 'big', 'sizes', 'online'...   \n",
       "18225  ['nike', 'court', 'royal', 'rare', 'shoe', 'sh...   \n",
       "18226  ['winningeleven', 'nike', 'court', 'royal', 'r...   \n",
       "\n",
       "                                              lemmatized  \\\n",
       "0      ['adidas', 'yeezy', 'boost', 'dazzling', 'blue...   \n",
       "1      ['worst', 'omicron', 'alhumdullilah', 'cupcake...   \n",
       "2      ['blessing', 'follower', 'life', 'changing', '...   \n",
       "3      ['south', 'park', 'adidas', 'professor', 'chao...   \n",
       "4      ['patronise', 'sell', 'adidas', 'shoe', 'fake'...   \n",
       "...                                                  ...   \n",
       "18222  ['determine', 'shoe', 'size', 'planning', 'buy...   \n",
       "18223                                     ['nike', 'lo']   \n",
       "18224  ['foo', 'nike', 'lo', 'big', 'size', 'online',...   \n",
       "18225  ['nike', 'court', 'royal', 'rare', 'shoe', 'sh...   \n",
       "18226  ['winningeleven', 'nike', 'court', 'royal', 'r...   \n",
       "\n",
       "                                              clean_body            label  \n",
       "0        yeezy boost dazzling blue coming yankeekicks ig           adidas  \n",
       "1      worst omicron alhumdullilah cupcake breakfast ...           adidas  \n",
       "2      blessing follower life changing nfts hour orig...           adidas  \n",
       "3              south park  professor chaos nmd releasing           adidas  \n",
       "4             patronise sell  shoe fake walk fast notice           adidas  \n",
       "...                                                  ...              ...  \n",
       "18222  determine shoe size planning buy  court royale...             nike  \n",
       "18223                                                 lo             nike  \n",
       "18224             foo  lo big size online  cutting small             nike  \n",
       "18225  court royal rare shoe shop cm size jog regular...  adidas and nike  \n",
       "18226  winningeleven  court royal rare shoe shop cm s...  adidas and nike  \n",
       "\n",
       "[18227 rows x 7 columns]"
      ]
     },
     "execution_count": 2,
     "metadata": {},
     "output_type": "execute_result"
    }
   ],
   "source": [
    "df = pd.read_csv('../result_clean.csv')\n",
    "df"
   ]
  },
  {
   "cell_type": "code",
   "execution_count": 3,
   "id": "2a17676d",
   "metadata": {
    "execution": {
     "iopub.execute_input": "2022-05-23T06:15:46.077716Z",
     "iopub.status.busy": "2022-05-23T06:15:46.076718Z",
     "iopub.status.idle": "2022-05-23T06:15:49.196156Z",
     "shell.execute_reply": "2022-05-23T06:15:49.196156Z"
    }
   },
   "outputs": [
    {
     "data": {
      "text/html": [
       "<div>\n",
       "<style scoped>\n",
       "    .dataframe tbody tr th:only-of-type {\n",
       "        vertical-align: middle;\n",
       "    }\n",
       "\n",
       "    .dataframe tbody tr th {\n",
       "        vertical-align: top;\n",
       "    }\n",
       "\n",
       "    .dataframe thead th {\n",
       "        text-align: right;\n",
       "    }\n",
       "</style>\n",
       "<table border=\"1\" class=\"dataframe\">\n",
       "  <thead>\n",
       "    <tr style=\"text-align: right;\">\n",
       "      <th></th>\n",
       "      <th>platform</th>\n",
       "      <th>date</th>\n",
       "      <th>body</th>\n",
       "      <th>token_words</th>\n",
       "      <th>lemmatized</th>\n",
       "      <th>clean_body</th>\n",
       "      <th>label</th>\n",
       "      <th>scores</th>\n",
       "    </tr>\n",
       "  </thead>\n",
       "  <tbody>\n",
       "    <tr>\n",
       "      <th>0</th>\n",
       "      <td>Twitter</td>\n",
       "      <td>30-12-2021 18:38:04</td>\n",
       "      <td>adidas Yeezy Boost 350 V2 “Dazzling Blue” 👟\\n\\...</td>\n",
       "      <td>['adidas', 'yeezy', 'boost', 'dazzling', 'blue...</td>\n",
       "      <td>['adidas', 'yeezy', 'boost', 'dazzling', 'blue...</td>\n",
       "      <td>yeezy boost dazzling blue coming yankeekicks ig</td>\n",
       "      <td>adidas</td>\n",
       "      <td>{'neg': 0.0, 'neu': 0.69, 'pos': 0.31, 'compou...</td>\n",
       "    </tr>\n",
       "    <tr>\n",
       "      <th>1</th>\n",
       "      <td>Twitter</td>\n",
       "      <td>30-12-2021 17:43:37</td>\n",
       "      <td>Am over the worst of Omicron. Alhumdullilah. I...</td>\n",
       "      <td>['worst', 'omicron', 'alhumdullilah', 'cupcake...</td>\n",
       "      <td>['worst', 'omicron', 'alhumdullilah', 'cupcake...</td>\n",
       "      <td>worst omicron alhumdullilah cupcake breakfast ...</td>\n",
       "      <td>adidas</td>\n",
       "      <td>{'neg': 0.232, 'neu': 0.452, 'pos': 0.316, 'co...</td>\n",
       "    </tr>\n",
       "    <tr>\n",
       "      <th>2</th>\n",
       "      <td>Twitter</td>\n",
       "      <td>30-12-2021 06:28:19</td>\n",
       "      <td>🎁 I'm blessing 1 follower with life changing N...</td>\n",
       "      <td>['blessing', 'follower', 'life', 'changing', '...</td>\n",
       "      <td>['blessing', 'follower', 'life', 'changing', '...</td>\n",
       "      <td>blessing follower life changing nfts hour orig...</td>\n",
       "      <td>adidas</td>\n",
       "      <td>{'neg': 0.0, 'neu': 0.775, 'pos': 0.225, 'comp...</td>\n",
       "    </tr>\n",
       "    <tr>\n",
       "      <th>3</th>\n",
       "      <td>Twitter</td>\n",
       "      <td>29-12-2021 22:31:57</td>\n",
       "      <td>South Park and adidas have a new “Professor Ch...</td>\n",
       "      <td>['south', 'park', 'adidas', 'professor', 'chao...</td>\n",
       "      <td>['south', 'park', 'adidas', 'professor', 'chao...</td>\n",
       "      <td>south park  professor chaos nmd releasing</td>\n",
       "      <td>adidas</td>\n",
       "      <td>{'neg': 0.425, 'neu': 0.575, 'pos': 0.0, 'comp...</td>\n",
       "    </tr>\n",
       "    <tr>\n",
       "      <th>4</th>\n",
       "      <td>Twitter</td>\n",
       "      <td>29-12-2021 19:29:20</td>\n",
       "      <td>Please patronise me, I sell Adidas shoes for 1...</td>\n",
       "      <td>['patronise', 'sell', 'adidas', 'shoes', 'fake...</td>\n",
       "      <td>['patronise', 'sell', 'adidas', 'shoe', 'fake'...</td>\n",
       "      <td>patronise sell  shoe fake walk fast notice</td>\n",
       "      <td>adidas</td>\n",
       "      <td>{'neg': 0.341, 'neu': 0.659, 'pos': 0.0, 'comp...</td>\n",
       "    </tr>\n",
       "    <tr>\n",
       "      <th>...</th>\n",
       "      <td>...</td>\n",
       "      <td>...</td>\n",
       "      <td>...</td>\n",
       "      <td>...</td>\n",
       "      <td>...</td>\n",
       "      <td>...</td>\n",
       "      <td>...</td>\n",
       "      <td>...</td>\n",
       "    </tr>\n",
       "    <tr>\n",
       "      <th>18222</th>\n",
       "      <td>HardwareZone</td>\n",
       "      <td>23-10-2021 13:02:06</td>\n",
       "      <td>How do you determine your shoe sizes? Planning...</td>\n",
       "      <td>['determine', 'shoe', 'sizes', 'planning', 'bu...</td>\n",
       "      <td>['determine', 'shoe', 'size', 'planning', 'buy...</td>\n",
       "      <td>determine shoe size planning buy  court royale...</td>\n",
       "      <td>nike</td>\n",
       "      <td>{'neg': 0.0, 'neu': 0.848, 'pos': 0.152, 'comp...</td>\n",
       "    </tr>\n",
       "    <tr>\n",
       "      <th>18223</th>\n",
       "      <td>HardwareZone</td>\n",
       "      <td>23-10-2021 14:50:44</td>\n",
       "      <td>best is go nike and try it on lo.</td>\n",
       "      <td>['nike', 'lo']</td>\n",
       "      <td>['nike', 'lo']</td>\n",
       "      <td>lo</td>\n",
       "      <td>nike</td>\n",
       "      <td>{'neg': 0.0, 'neu': 1.0, 'pos': 0.0, 'compound...</td>\n",
       "    </tr>\n",
       "    <tr>\n",
       "      <th>18224</th>\n",
       "      <td>HardwareZone</td>\n",
       "      <td>23-10-2021 14:59:00</td>\n",
       "      <td>foo9883 said:\\nbest is go nike and try it on l...</td>\n",
       "      <td>['foo', 'nike', 'lo', 'big', 'sizes', 'online'...</td>\n",
       "      <td>['foo', 'nike', 'lo', 'big', 'size', 'online',...</td>\n",
       "      <td>foo  lo big size online  cutting small</td>\n",
       "      <td>nike</td>\n",
       "      <td>{'neg': 0.2, 'neu': 0.8, 'pos': 0.0, 'compound...</td>\n",
       "    </tr>\n",
       "    <tr>\n",
       "      <th>18225</th>\n",
       "      <td>HardwareZone</td>\n",
       "      <td>01-11-2021 13:04:57</td>\n",
       "      <td>Nike Court Royal is not a rare shoe. Just go t...</td>\n",
       "      <td>['nike', 'court', 'royal', 'rare', 'shoe', 'sh...</td>\n",
       "      <td>['nike', 'court', 'royal', 'rare', 'shoe', 'sh...</td>\n",
       "      <td>court royal rare shoe shop cm size jog regular...</td>\n",
       "      <td>adidas and nike</td>\n",
       "      <td>{'neg': 0.061, 'neu': 0.746, 'pos': 0.193, 'co...</td>\n",
       "    </tr>\n",
       "    <tr>\n",
       "      <th>18226</th>\n",
       "      <td>HardwareZone</td>\n",
       "      <td>01-11-2021 13:18:04</td>\n",
       "      <td>winningeleven said:\\nNike Court Royal is not a...</td>\n",
       "      <td>['winningeleven', 'nike', 'court', 'royal', 'r...</td>\n",
       "      <td>['winningeleven', 'nike', 'court', 'royal', 'r...</td>\n",
       "      <td>winningeleven  court royal rare shoe shop cm s...</td>\n",
       "      <td>adidas and nike</td>\n",
       "      <td>{'neg': 0.052, 'neu': 0.676, 'pos': 0.272, 'co...</td>\n",
       "    </tr>\n",
       "  </tbody>\n",
       "</table>\n",
       "<p>18227 rows × 8 columns</p>\n",
       "</div>"
      ],
      "text/plain": [
       "           platform                 date  \\\n",
       "0           Twitter  30-12-2021 18:38:04   \n",
       "1           Twitter  30-12-2021 17:43:37   \n",
       "2           Twitter  30-12-2021 06:28:19   \n",
       "3           Twitter  29-12-2021 22:31:57   \n",
       "4           Twitter  29-12-2021 19:29:20   \n",
       "...             ...                  ...   \n",
       "18222  HardwareZone  23-10-2021 13:02:06   \n",
       "18223  HardwareZone  23-10-2021 14:50:44   \n",
       "18224  HardwareZone  23-10-2021 14:59:00   \n",
       "18225  HardwareZone  01-11-2021 13:04:57   \n",
       "18226  HardwareZone  01-11-2021 13:18:04   \n",
       "\n",
       "                                                    body  \\\n",
       "0      adidas Yeezy Boost 350 V2 “Dazzling Blue” 👟\\n\\...   \n",
       "1      Am over the worst of Omicron. Alhumdullilah. I...   \n",
       "2      🎁 I'm blessing 1 follower with life changing N...   \n",
       "3      South Park and adidas have a new “Professor Ch...   \n",
       "4      Please patronise me, I sell Adidas shoes for 1...   \n",
       "...                                                  ...   \n",
       "18222  How do you determine your shoe sizes? Planning...   \n",
       "18223                  best is go nike and try it on lo.   \n",
       "18224  foo9883 said:\\nbest is go nike and try it on l...   \n",
       "18225  Nike Court Royal is not a rare shoe. Just go t...   \n",
       "18226  winningeleven said:\\nNike Court Royal is not a...   \n",
       "\n",
       "                                             token_words  \\\n",
       "0      ['adidas', 'yeezy', 'boost', 'dazzling', 'blue...   \n",
       "1      ['worst', 'omicron', 'alhumdullilah', 'cupcake...   \n",
       "2      ['blessing', 'follower', 'life', 'changing', '...   \n",
       "3      ['south', 'park', 'adidas', 'professor', 'chao...   \n",
       "4      ['patronise', 'sell', 'adidas', 'shoes', 'fake...   \n",
       "...                                                  ...   \n",
       "18222  ['determine', 'shoe', 'sizes', 'planning', 'bu...   \n",
       "18223                                     ['nike', 'lo']   \n",
       "18224  ['foo', 'nike', 'lo', 'big', 'sizes', 'online'...   \n",
       "18225  ['nike', 'court', 'royal', 'rare', 'shoe', 'sh...   \n",
       "18226  ['winningeleven', 'nike', 'court', 'royal', 'r...   \n",
       "\n",
       "                                              lemmatized  \\\n",
       "0      ['adidas', 'yeezy', 'boost', 'dazzling', 'blue...   \n",
       "1      ['worst', 'omicron', 'alhumdullilah', 'cupcake...   \n",
       "2      ['blessing', 'follower', 'life', 'changing', '...   \n",
       "3      ['south', 'park', 'adidas', 'professor', 'chao...   \n",
       "4      ['patronise', 'sell', 'adidas', 'shoe', 'fake'...   \n",
       "...                                                  ...   \n",
       "18222  ['determine', 'shoe', 'size', 'planning', 'buy...   \n",
       "18223                                     ['nike', 'lo']   \n",
       "18224  ['foo', 'nike', 'lo', 'big', 'size', 'online',...   \n",
       "18225  ['nike', 'court', 'royal', 'rare', 'shoe', 'sh...   \n",
       "18226  ['winningeleven', 'nike', 'court', 'royal', 'r...   \n",
       "\n",
       "                                              clean_body            label  \\\n",
       "0        yeezy boost dazzling blue coming yankeekicks ig           adidas   \n",
       "1      worst omicron alhumdullilah cupcake breakfast ...           adidas   \n",
       "2      blessing follower life changing nfts hour orig...           adidas   \n",
       "3              south park  professor chaos nmd releasing           adidas   \n",
       "4             patronise sell  shoe fake walk fast notice           adidas   \n",
       "...                                                  ...              ...   \n",
       "18222  determine shoe size planning buy  court royale...             nike   \n",
       "18223                                                 lo             nike   \n",
       "18224             foo  lo big size online  cutting small             nike   \n",
       "18225  court royal rare shoe shop cm size jog regular...  adidas and nike   \n",
       "18226  winningeleven  court royal rare shoe shop cm s...  adidas and nike   \n",
       "\n",
       "                                                  scores  \n",
       "0      {'neg': 0.0, 'neu': 0.69, 'pos': 0.31, 'compou...  \n",
       "1      {'neg': 0.232, 'neu': 0.452, 'pos': 0.316, 'co...  \n",
       "2      {'neg': 0.0, 'neu': 0.775, 'pos': 0.225, 'comp...  \n",
       "3      {'neg': 0.425, 'neu': 0.575, 'pos': 0.0, 'comp...  \n",
       "4      {'neg': 0.341, 'neu': 0.659, 'pos': 0.0, 'comp...  \n",
       "...                                                  ...  \n",
       "18222  {'neg': 0.0, 'neu': 0.848, 'pos': 0.152, 'comp...  \n",
       "18223  {'neg': 0.0, 'neu': 1.0, 'pos': 0.0, 'compound...  \n",
       "18224  {'neg': 0.2, 'neu': 0.8, 'pos': 0.0, 'compound...  \n",
       "18225  {'neg': 0.061, 'neu': 0.746, 'pos': 0.193, 'co...  \n",
       "18226  {'neg': 0.052, 'neu': 0.676, 'pos': 0.272, 'co...  \n",
       "\n",
       "[18227 rows x 8 columns]"
      ]
     },
     "execution_count": 3,
     "metadata": {},
     "output_type": "execute_result"
    }
   ],
   "source": [
    "sid = SentimentIntensityAnalyzer()\n",
    "\n",
    "df['scores'] = df['clean_body'].apply(lambda text: sid.polarity_scores(str(text)))\n",
    "df"
   ]
  },
  {
   "cell_type": "code",
   "execution_count": 4,
   "id": "183f45c2",
   "metadata": {
    "execution": {
     "iopub.execute_input": "2022-05-23T06:15:49.200178Z",
     "iopub.status.busy": "2022-05-23T06:15:49.199183Z",
     "iopub.status.idle": "2022-05-23T06:15:49.227624Z",
     "shell.execute_reply": "2022-05-23T06:15:49.228611Z"
    }
   },
   "outputs": [
    {
     "data": {
      "text/html": [
       "<div>\n",
       "<style scoped>\n",
       "    .dataframe tbody tr th:only-of-type {\n",
       "        vertical-align: middle;\n",
       "    }\n",
       "\n",
       "    .dataframe tbody tr th {\n",
       "        vertical-align: top;\n",
       "    }\n",
       "\n",
       "    .dataframe thead th {\n",
       "        text-align: right;\n",
       "    }\n",
       "</style>\n",
       "<table border=\"1\" class=\"dataframe\">\n",
       "  <thead>\n",
       "    <tr style=\"text-align: right;\">\n",
       "      <th></th>\n",
       "      <th>platform</th>\n",
       "      <th>date</th>\n",
       "      <th>body</th>\n",
       "      <th>token_words</th>\n",
       "      <th>lemmatized</th>\n",
       "      <th>clean_body</th>\n",
       "      <th>label</th>\n",
       "      <th>scores</th>\n",
       "      <th>compound</th>\n",
       "      <th>sentiment_type</th>\n",
       "    </tr>\n",
       "  </thead>\n",
       "  <tbody>\n",
       "    <tr>\n",
       "      <th>0</th>\n",
       "      <td>Twitter</td>\n",
       "      <td>30-12-2021 18:38:04</td>\n",
       "      <td>adidas Yeezy Boost 350 V2 “Dazzling Blue” 👟\\n\\...</td>\n",
       "      <td>['adidas', 'yeezy', 'boost', 'dazzling', 'blue...</td>\n",
       "      <td>['adidas', 'yeezy', 'boost', 'dazzling', 'blue...</td>\n",
       "      <td>yeezy boost dazzling blue coming yankeekicks ig</td>\n",
       "      <td>adidas</td>\n",
       "      <td>{'neg': 0.0, 'neu': 0.69, 'pos': 0.31, 'compou...</td>\n",
       "      <td>0.4019</td>\n",
       "      <td>POSITIVE</td>\n",
       "    </tr>\n",
       "    <tr>\n",
       "      <th>1</th>\n",
       "      <td>Twitter</td>\n",
       "      <td>30-12-2021 17:43:37</td>\n",
       "      <td>Am over the worst of Omicron. Alhumdullilah. I...</td>\n",
       "      <td>['worst', 'omicron', 'alhumdullilah', 'cupcake...</td>\n",
       "      <td>['worst', 'omicron', 'alhumdullilah', 'cupcake...</td>\n",
       "      <td>worst omicron alhumdullilah cupcake breakfast ...</td>\n",
       "      <td>adidas</td>\n",
       "      <td>{'neg': 0.232, 'neu': 0.452, 'pos': 0.316, 'co...</td>\n",
       "      <td>0.1280</td>\n",
       "      <td>POSITIVE</td>\n",
       "    </tr>\n",
       "    <tr>\n",
       "      <th>2</th>\n",
       "      <td>Twitter</td>\n",
       "      <td>30-12-2021 06:28:19</td>\n",
       "      <td>🎁 I'm blessing 1 follower with life changing N...</td>\n",
       "      <td>['blessing', 'follower', 'life', 'changing', '...</td>\n",
       "      <td>['blessing', 'follower', 'life', 'changing', '...</td>\n",
       "      <td>blessing follower life changing nfts hour orig...</td>\n",
       "      <td>adidas</td>\n",
       "      <td>{'neg': 0.0, 'neu': 0.775, 'pos': 0.225, 'comp...</td>\n",
       "      <td>0.4939</td>\n",
       "      <td>POSITIVE</td>\n",
       "    </tr>\n",
       "    <tr>\n",
       "      <th>3</th>\n",
       "      <td>Twitter</td>\n",
       "      <td>29-12-2021 22:31:57</td>\n",
       "      <td>South Park and adidas have a new “Professor Ch...</td>\n",
       "      <td>['south', 'park', 'adidas', 'professor', 'chao...</td>\n",
       "      <td>['south', 'park', 'adidas', 'professor', 'chao...</td>\n",
       "      <td>south park  professor chaos nmd releasing</td>\n",
       "      <td>adidas</td>\n",
       "      <td>{'neg': 0.425, 'neu': 0.575, 'pos': 0.0, 'comp...</td>\n",
       "      <td>-0.5719</td>\n",
       "      <td>NEGATIVE</td>\n",
       "    </tr>\n",
       "    <tr>\n",
       "      <th>4</th>\n",
       "      <td>Twitter</td>\n",
       "      <td>29-12-2021 19:29:20</td>\n",
       "      <td>Please patronise me, I sell Adidas shoes for 1...</td>\n",
       "      <td>['patronise', 'sell', 'adidas', 'shoes', 'fake...</td>\n",
       "      <td>['patronise', 'sell', 'adidas', 'shoe', 'fake'...</td>\n",
       "      <td>patronise sell  shoe fake walk fast notice</td>\n",
       "      <td>adidas</td>\n",
       "      <td>{'neg': 0.341, 'neu': 0.659, 'pos': 0.0, 'comp...</td>\n",
       "      <td>-0.4767</td>\n",
       "      <td>NEGATIVE</td>\n",
       "    </tr>\n",
       "    <tr>\n",
       "      <th>...</th>\n",
       "      <td>...</td>\n",
       "      <td>...</td>\n",
       "      <td>...</td>\n",
       "      <td>...</td>\n",
       "      <td>...</td>\n",
       "      <td>...</td>\n",
       "      <td>...</td>\n",
       "      <td>...</td>\n",
       "      <td>...</td>\n",
       "      <td>...</td>\n",
       "    </tr>\n",
       "    <tr>\n",
       "      <th>18222</th>\n",
       "      <td>HardwareZone</td>\n",
       "      <td>23-10-2021 13:02:06</td>\n",
       "      <td>How do you determine your shoe sizes? Planning...</td>\n",
       "      <td>['determine', 'shoe', 'sizes', 'planning', 'bu...</td>\n",
       "      <td>['determine', 'shoe', 'size', 'planning', 'buy...</td>\n",
       "      <td>determine shoe size planning buy  court royale...</td>\n",
       "      <td>nike</td>\n",
       "      <td>{'neg': 0.0, 'neu': 0.848, 'pos': 0.152, 'comp...</td>\n",
       "      <td>0.3612</td>\n",
       "      <td>POSITIVE</td>\n",
       "    </tr>\n",
       "    <tr>\n",
       "      <th>18223</th>\n",
       "      <td>HardwareZone</td>\n",
       "      <td>23-10-2021 14:50:44</td>\n",
       "      <td>best is go nike and try it on lo.</td>\n",
       "      <td>['nike', 'lo']</td>\n",
       "      <td>['nike', 'lo']</td>\n",
       "      <td>lo</td>\n",
       "      <td>nike</td>\n",
       "      <td>{'neg': 0.0, 'neu': 1.0, 'pos': 0.0, 'compound...</td>\n",
       "      <td>0.0000</td>\n",
       "      <td>NEUTRAL</td>\n",
       "    </tr>\n",
       "    <tr>\n",
       "      <th>18224</th>\n",
       "      <td>HardwareZone</td>\n",
       "      <td>23-10-2021 14:59:00</td>\n",
       "      <td>foo9883 said:\\nbest is go nike and try it on l...</td>\n",
       "      <td>['foo', 'nike', 'lo', 'big', 'sizes', 'online'...</td>\n",
       "      <td>['foo', 'nike', 'lo', 'big', 'size', 'online',...</td>\n",
       "      <td>foo  lo big size online  cutting small</td>\n",
       "      <td>nike</td>\n",
       "      <td>{'neg': 0.2, 'neu': 0.8, 'pos': 0.0, 'compound...</td>\n",
       "      <td>-0.1280</td>\n",
       "      <td>NEGATIVE</td>\n",
       "    </tr>\n",
       "    <tr>\n",
       "      <th>18225</th>\n",
       "      <td>HardwareZone</td>\n",
       "      <td>01-11-2021 13:04:57</td>\n",
       "      <td>Nike Court Royal is not a rare shoe. Just go t...</td>\n",
       "      <td>['nike', 'court', 'royal', 'rare', 'shoe', 'sh...</td>\n",
       "      <td>['nike', 'court', 'royal', 'rare', 'shoe', 'sh...</td>\n",
       "      <td>court royal rare shoe shop cm size jog regular...</td>\n",
       "      <td>adidas and nike</td>\n",
       "      <td>{'neg': 0.061, 'neu': 0.746, 'pos': 0.193, 'co...</td>\n",
       "      <td>0.8316</td>\n",
       "      <td>POSITIVE</td>\n",
       "    </tr>\n",
       "    <tr>\n",
       "      <th>18226</th>\n",
       "      <td>HardwareZone</td>\n",
       "      <td>01-11-2021 13:18:04</td>\n",
       "      <td>winningeleven said:\\nNike Court Royal is not a...</td>\n",
       "      <td>['winningeleven', 'nike', 'court', 'royal', 'r...</td>\n",
       "      <td>['winningeleven', 'nike', 'court', 'royal', 'r...</td>\n",
       "      <td>winningeleven  court royal rare shoe shop cm s...</td>\n",
       "      <td>adidas and nike</td>\n",
       "      <td>{'neg': 0.052, 'neu': 0.676, 'pos': 0.272, 'co...</td>\n",
       "      <td>0.9451</td>\n",
       "      <td>POSITIVE</td>\n",
       "    </tr>\n",
       "  </tbody>\n",
       "</table>\n",
       "<p>18227 rows × 10 columns</p>\n",
       "</div>"
      ],
      "text/plain": [
       "           platform                 date  \\\n",
       "0           Twitter  30-12-2021 18:38:04   \n",
       "1           Twitter  30-12-2021 17:43:37   \n",
       "2           Twitter  30-12-2021 06:28:19   \n",
       "3           Twitter  29-12-2021 22:31:57   \n",
       "4           Twitter  29-12-2021 19:29:20   \n",
       "...             ...                  ...   \n",
       "18222  HardwareZone  23-10-2021 13:02:06   \n",
       "18223  HardwareZone  23-10-2021 14:50:44   \n",
       "18224  HardwareZone  23-10-2021 14:59:00   \n",
       "18225  HardwareZone  01-11-2021 13:04:57   \n",
       "18226  HardwareZone  01-11-2021 13:18:04   \n",
       "\n",
       "                                                    body  \\\n",
       "0      adidas Yeezy Boost 350 V2 “Dazzling Blue” 👟\\n\\...   \n",
       "1      Am over the worst of Omicron. Alhumdullilah. I...   \n",
       "2      🎁 I'm blessing 1 follower with life changing N...   \n",
       "3      South Park and adidas have a new “Professor Ch...   \n",
       "4      Please patronise me, I sell Adidas shoes for 1...   \n",
       "...                                                  ...   \n",
       "18222  How do you determine your shoe sizes? Planning...   \n",
       "18223                  best is go nike and try it on lo.   \n",
       "18224  foo9883 said:\\nbest is go nike and try it on l...   \n",
       "18225  Nike Court Royal is not a rare shoe. Just go t...   \n",
       "18226  winningeleven said:\\nNike Court Royal is not a...   \n",
       "\n",
       "                                             token_words  \\\n",
       "0      ['adidas', 'yeezy', 'boost', 'dazzling', 'blue...   \n",
       "1      ['worst', 'omicron', 'alhumdullilah', 'cupcake...   \n",
       "2      ['blessing', 'follower', 'life', 'changing', '...   \n",
       "3      ['south', 'park', 'adidas', 'professor', 'chao...   \n",
       "4      ['patronise', 'sell', 'adidas', 'shoes', 'fake...   \n",
       "...                                                  ...   \n",
       "18222  ['determine', 'shoe', 'sizes', 'planning', 'bu...   \n",
       "18223                                     ['nike', 'lo']   \n",
       "18224  ['foo', 'nike', 'lo', 'big', 'sizes', 'online'...   \n",
       "18225  ['nike', 'court', 'royal', 'rare', 'shoe', 'sh...   \n",
       "18226  ['winningeleven', 'nike', 'court', 'royal', 'r...   \n",
       "\n",
       "                                              lemmatized  \\\n",
       "0      ['adidas', 'yeezy', 'boost', 'dazzling', 'blue...   \n",
       "1      ['worst', 'omicron', 'alhumdullilah', 'cupcake...   \n",
       "2      ['blessing', 'follower', 'life', 'changing', '...   \n",
       "3      ['south', 'park', 'adidas', 'professor', 'chao...   \n",
       "4      ['patronise', 'sell', 'adidas', 'shoe', 'fake'...   \n",
       "...                                                  ...   \n",
       "18222  ['determine', 'shoe', 'size', 'planning', 'buy...   \n",
       "18223                                     ['nike', 'lo']   \n",
       "18224  ['foo', 'nike', 'lo', 'big', 'size', 'online',...   \n",
       "18225  ['nike', 'court', 'royal', 'rare', 'shoe', 'sh...   \n",
       "18226  ['winningeleven', 'nike', 'court', 'royal', 'r...   \n",
       "\n",
       "                                              clean_body            label  \\\n",
       "0        yeezy boost dazzling blue coming yankeekicks ig           adidas   \n",
       "1      worst omicron alhumdullilah cupcake breakfast ...           adidas   \n",
       "2      blessing follower life changing nfts hour orig...           adidas   \n",
       "3              south park  professor chaos nmd releasing           adidas   \n",
       "4             patronise sell  shoe fake walk fast notice           adidas   \n",
       "...                                                  ...              ...   \n",
       "18222  determine shoe size planning buy  court royale...             nike   \n",
       "18223                                                 lo             nike   \n",
       "18224             foo  lo big size online  cutting small             nike   \n",
       "18225  court royal rare shoe shop cm size jog regular...  adidas and nike   \n",
       "18226  winningeleven  court royal rare shoe shop cm s...  adidas and nike   \n",
       "\n",
       "                                                  scores  compound  \\\n",
       "0      {'neg': 0.0, 'neu': 0.69, 'pos': 0.31, 'compou...    0.4019   \n",
       "1      {'neg': 0.232, 'neu': 0.452, 'pos': 0.316, 'co...    0.1280   \n",
       "2      {'neg': 0.0, 'neu': 0.775, 'pos': 0.225, 'comp...    0.4939   \n",
       "3      {'neg': 0.425, 'neu': 0.575, 'pos': 0.0, 'comp...   -0.5719   \n",
       "4      {'neg': 0.341, 'neu': 0.659, 'pos': 0.0, 'comp...   -0.4767   \n",
       "...                                                  ...       ...   \n",
       "18222  {'neg': 0.0, 'neu': 0.848, 'pos': 0.152, 'comp...    0.3612   \n",
       "18223  {'neg': 0.0, 'neu': 1.0, 'pos': 0.0, 'compound...    0.0000   \n",
       "18224  {'neg': 0.2, 'neu': 0.8, 'pos': 0.0, 'compound...   -0.1280   \n",
       "18225  {'neg': 0.061, 'neu': 0.746, 'pos': 0.193, 'co...    0.8316   \n",
       "18226  {'neg': 0.052, 'neu': 0.676, 'pos': 0.272, 'co...    0.9451   \n",
       "\n",
       "      sentiment_type  \n",
       "0           POSITIVE  \n",
       "1           POSITIVE  \n",
       "2           POSITIVE  \n",
       "3           NEGATIVE  \n",
       "4           NEGATIVE  \n",
       "...              ...  \n",
       "18222       POSITIVE  \n",
       "18223        NEUTRAL  \n",
       "18224       NEGATIVE  \n",
       "18225       POSITIVE  \n",
       "18226       POSITIVE  \n",
       "\n",
       "[18227 rows x 10 columns]"
      ]
     },
     "execution_count": 4,
     "metadata": {},
     "output_type": "execute_result"
    }
   ],
   "source": [
    "df['compound'] = df['scores'].apply(lambda score_dict: score_dict['compound'])\n",
    "df['sentiment_type'] = ''\n",
    "df.loc[df.compound > 0, 'sentiment_type'] = 'POSITIVE'\n",
    "df.loc[df.compound == 0, 'sentiment_type'] = 'NEUTRAL'\n",
    "df.loc[df.compound < 0, 'sentiment_type'] = 'NEGATIVE'\n",
    "df"
   ]
  },
  {
   "cell_type": "code",
   "execution_count": 5,
   "id": "5f8ea7fe",
   "metadata": {
    "execution": {
     "iopub.execute_input": "2022-05-23T06:15:49.231569Z",
     "iopub.status.busy": "2022-05-23T06:15:49.231569Z",
     "iopub.status.idle": "2022-05-23T06:15:49.260121Z",
     "shell.execute_reply": "2022-05-23T06:15:49.260121Z"
    }
   },
   "outputs": [
    {
     "data": {
      "text/html": [
       "<div>\n",
       "<style scoped>\n",
       "    .dataframe tbody tr th:only-of-type {\n",
       "        vertical-align: middle;\n",
       "    }\n",
       "\n",
       "    .dataframe tbody tr th {\n",
       "        vertical-align: top;\n",
       "    }\n",
       "\n",
       "    .dataframe thead th {\n",
       "        text-align: right;\n",
       "    }\n",
       "</style>\n",
       "<table border=\"1\" class=\"dataframe\">\n",
       "  <thead>\n",
       "    <tr style=\"text-align: right;\">\n",
       "      <th></th>\n",
       "      <th>platform</th>\n",
       "      <th>date</th>\n",
       "      <th>body</th>\n",
       "      <th>token_words</th>\n",
       "      <th>lemmatized</th>\n",
       "      <th>clean_body</th>\n",
       "      <th>label</th>\n",
       "      <th>scores</th>\n",
       "      <th>compound</th>\n",
       "      <th>sentiment_type</th>\n",
       "    </tr>\n",
       "  </thead>\n",
       "  <tbody>\n",
       "    <tr>\n",
       "      <th>16230</th>\n",
       "      <td>Facebook</td>\n",
       "      <td>23-05-2017 13:57:50</td>\n",
       "      <td>What a great game off tennis I have never watc...</td>\n",
       "      <td>['great', 'game', 'tennis', 'watched', 'tv', '...</td>\n",
       "      <td>['great', 'game', 'tennis', 'watched', 'tv', '...</td>\n",
       "      <td>great game tennis watched tv great player</td>\n",
       "      <td>nike</td>\n",
       "      <td>{'neg': 0.0, 'neu': 0.379, 'pos': 0.621, 'comp...</td>\n",
       "      <td>0.8481</td>\n",
       "      <td>POSITIVE</td>\n",
       "    </tr>\n",
       "    <tr>\n",
       "      <th>9619</th>\n",
       "      <td>Reddit</td>\n",
       "      <td>23-12-2021 16:25:33</td>\n",
       "      <td>Right?! Idk why you got thumbs down. They need...</td>\n",
       "      <td>['idk', 'thumbs', 'exciting', 'colorways', 'lo...</td>\n",
       "      <td>['idk', 'thumb', 'exciting', 'colorways', 'lov...</td>\n",
       "      <td>idk thumb exciting colorways love feel shoe cu...</td>\n",
       "      <td>adidas</td>\n",
       "      <td>{'neg': 0.05, 'neu': 0.536, 'pos': 0.414, 'com...</td>\n",
       "      <td>0.9042</td>\n",
       "      <td>POSITIVE</td>\n",
       "    </tr>\n",
       "    <tr>\n",
       "      <th>12741</th>\n",
       "      <td>Reddit</td>\n",
       "      <td>28-12-2021 13:07:56</td>\n",
       "      <td>Right? If you divide the winnings by the hours...</td>\n",
       "      <td>['divide', 'winnings', 'hours', 'invested', 'b...</td>\n",
       "      <td>['divide', 'winning', 'hour', 'invested', 'bet...</td>\n",
       "      <td>divide winning hour invested bet return workin...</td>\n",
       "      <td>nike</td>\n",
       "      <td>{'neg': 0.0, 'neu': 0.673, 'pos': 0.327, 'comp...</td>\n",
       "      <td>0.5267</td>\n",
       "      <td>POSITIVE</td>\n",
       "    </tr>\n",
       "    <tr>\n",
       "      <th>13571</th>\n",
       "      <td>Reddit</td>\n",
       "      <td>27-12-2021 10:13:39</td>\n",
       "      <td>A friend of mine has a cool\\n1950’s Soviet map...</td>\n",
       "      <td>['friend', 'cool', 'soviet', 'map', 'belfast',...</td>\n",
       "      <td>['friend', 'cool', 'soviet', 'map', 'belfast',...</td>\n",
       "      <td>friend cool soviet map belfast wall target wan...</td>\n",
       "      <td>nike</td>\n",
       "      <td>{'neg': 0.176, 'neu': 0.511, 'pos': 0.312, 'co...</td>\n",
       "      <td>0.3400</td>\n",
       "      <td>POSITIVE</td>\n",
       "    </tr>\n",
       "    <tr>\n",
       "      <th>12592</th>\n",
       "      <td>Reddit</td>\n",
       "      <td>28-12-2021 17:00:44</td>\n",
       "      <td>With LV stuff you need a high tolerance becaus...</td>\n",
       "      <td>['lv', 'stuff', 'high', 'tolerance', 'retails'...</td>\n",
       "      <td>['lv', 'stuff', 'high', 'tolerance', 'retail',...</td>\n",
       "      <td>lv stuff high tolerance retail pretty perfect ...</td>\n",
       "      <td>nike</td>\n",
       "      <td>{'neg': 0.162, 'neu': 0.417, 'pos': 0.421, 'co...</td>\n",
       "      <td>0.6808</td>\n",
       "      <td>POSITIVE</td>\n",
       "    </tr>\n",
       "  </tbody>\n",
       "</table>\n",
       "</div>"
      ],
      "text/plain": [
       "       platform                 date  \\\n",
       "16230  Facebook  23-05-2017 13:57:50   \n",
       "9619     Reddit  23-12-2021 16:25:33   \n",
       "12741    Reddit  28-12-2021 13:07:56   \n",
       "13571    Reddit  27-12-2021 10:13:39   \n",
       "12592    Reddit  28-12-2021 17:00:44   \n",
       "\n",
       "                                                    body  \\\n",
       "16230  What a great game off tennis I have never watc...   \n",
       "9619   Right?! Idk why you got thumbs down. They need...   \n",
       "12741  Right? If you divide the winnings by the hours...   \n",
       "13571  A friend of mine has a cool\\n1950’s Soviet map...   \n",
       "12592  With LV stuff you need a high tolerance becaus...   \n",
       "\n",
       "                                             token_words  \\\n",
       "16230  ['great', 'game', 'tennis', 'watched', 'tv', '...   \n",
       "9619   ['idk', 'thumbs', 'exciting', 'colorways', 'lo...   \n",
       "12741  ['divide', 'winnings', 'hours', 'invested', 'b...   \n",
       "13571  ['friend', 'cool', 'soviet', 'map', 'belfast',...   \n",
       "12592  ['lv', 'stuff', 'high', 'tolerance', 'retails'...   \n",
       "\n",
       "                                              lemmatized  \\\n",
       "16230  ['great', 'game', 'tennis', 'watched', 'tv', '...   \n",
       "9619   ['idk', 'thumb', 'exciting', 'colorways', 'lov...   \n",
       "12741  ['divide', 'winning', 'hour', 'invested', 'bet...   \n",
       "13571  ['friend', 'cool', 'soviet', 'map', 'belfast',...   \n",
       "12592  ['lv', 'stuff', 'high', 'tolerance', 'retail',...   \n",
       "\n",
       "                                              clean_body   label  \\\n",
       "16230          great game tennis watched tv great player    nike   \n",
       "9619   idk thumb exciting colorways love feel shoe cu...  adidas   \n",
       "12741  divide winning hour invested bet return workin...    nike   \n",
       "13571  friend cool soviet map belfast wall target wan...    nike   \n",
       "12592  lv stuff high tolerance retail pretty perfect ...    nike   \n",
       "\n",
       "                                                  scores  compound  \\\n",
       "16230  {'neg': 0.0, 'neu': 0.379, 'pos': 0.621, 'comp...    0.8481   \n",
       "9619   {'neg': 0.05, 'neu': 0.536, 'pos': 0.414, 'com...    0.9042   \n",
       "12741  {'neg': 0.0, 'neu': 0.673, 'pos': 0.327, 'comp...    0.5267   \n",
       "13571  {'neg': 0.176, 'neu': 0.511, 'pos': 0.312, 'co...    0.3400   \n",
       "12592  {'neg': 0.162, 'neu': 0.417, 'pos': 0.421, 'co...    0.6808   \n",
       "\n",
       "      sentiment_type  \n",
       "16230       POSITIVE  \n",
       "9619        POSITIVE  \n",
       "12741       POSITIVE  \n",
       "13571       POSITIVE  \n",
       "12592       POSITIVE  "
      ]
     },
     "execution_count": 5,
     "metadata": {},
     "output_type": "execute_result"
    }
   ],
   "source": [
    "df[df['sentiment_type'] == 'POSITIVE'].sample(n = 5)"
   ]
  },
  {
   "cell_type": "code",
   "execution_count": 6,
   "id": "dbc095cb",
   "metadata": {
    "execution": {
     "iopub.execute_input": "2022-05-23T06:15:49.263113Z",
     "iopub.status.busy": "2022-05-23T06:15:49.262116Z",
     "iopub.status.idle": "2022-05-23T06:15:49.275004Z",
     "shell.execute_reply": "2022-05-23T06:15:49.276028Z"
    }
   },
   "outputs": [
    {
     "data": {
      "text/html": [
       "<div>\n",
       "<style scoped>\n",
       "    .dataframe tbody tr th:only-of-type {\n",
       "        vertical-align: middle;\n",
       "    }\n",
       "\n",
       "    .dataframe tbody tr th {\n",
       "        vertical-align: top;\n",
       "    }\n",
       "\n",
       "    .dataframe thead th {\n",
       "        text-align: right;\n",
       "    }\n",
       "</style>\n",
       "<table border=\"1\" class=\"dataframe\">\n",
       "  <thead>\n",
       "    <tr style=\"text-align: right;\">\n",
       "      <th></th>\n",
       "      <th>platform</th>\n",
       "      <th>date</th>\n",
       "      <th>body</th>\n",
       "      <th>token_words</th>\n",
       "      <th>lemmatized</th>\n",
       "      <th>clean_body</th>\n",
       "      <th>label</th>\n",
       "      <th>scores</th>\n",
       "      <th>compound</th>\n",
       "      <th>sentiment_type</th>\n",
       "    </tr>\n",
       "  </thead>\n",
       "  <tbody>\n",
       "    <tr>\n",
       "      <th>7508</th>\n",
       "      <td>Reddit</td>\n",
       "      <td>30-12-2021 03:11:51</td>\n",
       "      <td>My unpopular opinion is that Peloton branded c...</td>\n",
       "      <td>['unpopular', 'opinion', 'peloton', 'branded',...</td>\n",
       "      <td>['unpopular', 'opinion', 'peloton', 'branded',...</td>\n",
       "      <td>unpopular opinion peloton branded clothing pri...</td>\n",
       "      <td>adidas and nike</td>\n",
       "      <td>{'neg': 0.071, 'neu': 0.817, 'pos': 0.112, 'co...</td>\n",
       "      <td>-0.0268</td>\n",
       "      <td>NEGATIVE</td>\n",
       "    </tr>\n",
       "    <tr>\n",
       "      <th>10446</th>\n",
       "      <td>Reddit</td>\n",
       "      <td>21-12-2021 12:12:49</td>\n",
       "      <td>Adidas.\\n\\nJ'utilise encore la trousse de toil...</td>\n",
       "      <td>['adidas', 'jutilise', 'encore', 'la', 'trouss...</td>\n",
       "      <td>['adidas', 'jutilise', 'encore', 'la', 'trouss...</td>\n",
       "      <td>jutilise encore la trousse toilette an tard</td>\n",
       "      <td>adidas</td>\n",
       "      <td>{'neg': 0.368, 'neu': 0.632, 'pos': 0.0, 'comp...</td>\n",
       "      <td>-0.5423</td>\n",
       "      <td>NEGATIVE</td>\n",
       "    </tr>\n",
       "    <tr>\n",
       "      <th>11961</th>\n",
       "      <td>Reddit</td>\n",
       "      <td>29-12-2021 12:52:10</td>\n",
       "      <td>Ebay nervt leider auch sehr. Wenn du begehrte ...</td>\n",
       "      <td>['ebay', 'nervt', 'leider', 'auch', 'sehr', 'w...</td>\n",
       "      <td>['ebay', 'nervt', 'leider', 'auch', 'sehr', 'w...</td>\n",
       "      <td>ebay nervt leider auch sehr wenn du begehrte m...</td>\n",
       "      <td>nike</td>\n",
       "      <td>{'neg': 0.231, 'neu': 0.689, 'pos': 0.08, 'com...</td>\n",
       "      <td>-0.7783</td>\n",
       "      <td>NEGATIVE</td>\n",
       "    </tr>\n",
       "    <tr>\n",
       "      <th>18074</th>\n",
       "      <td>HardwareZone</td>\n",
       "      <td>01-01-2022 18:45:53</td>\n",
       "      <td>New Balance lost to Nike and adidas worldwide ...</td>\n",
       "      <td>['balance', 'lost', 'nike', 'adidas', 'worldwi...</td>\n",
       "      <td>['balance', 'lost', 'nike', 'adidas', 'worldwi...</td>\n",
       "      <td>balance lost   worldwide singapore footlocker ...</td>\n",
       "      <td>adidas and nike</td>\n",
       "      <td>{'neg': 0.187, 'neu': 0.813, 'pos': 0.0, 'comp...</td>\n",
       "      <td>-0.3182</td>\n",
       "      <td>NEGATIVE</td>\n",
       "    </tr>\n",
       "    <tr>\n",
       "      <th>7511</th>\n",
       "      <td>Reddit</td>\n",
       "      <td>30-12-2021 02:54:50</td>\n",
       "      <td>Pogba is trash IMO. You can do a lot better th...</td>\n",
       "      <td>['pogba', 'trash', 'imo', 'lot', 'defensive', ...</td>\n",
       "      <td>['pogba', 'trash', 'imo', 'lot', 'defensive', ...</td>\n",
       "      <td>pogba trash imo lot defensive midfielder onyek...</td>\n",
       "      <td>adidas</td>\n",
       "      <td>{'neg': 0.13, 'neu': 0.823, 'pos': 0.048, 'com...</td>\n",
       "      <td>-0.4404</td>\n",
       "      <td>NEGATIVE</td>\n",
       "    </tr>\n",
       "  </tbody>\n",
       "</table>\n",
       "</div>"
      ],
      "text/plain": [
       "           platform                 date  \\\n",
       "7508         Reddit  30-12-2021 03:11:51   \n",
       "10446        Reddit  21-12-2021 12:12:49   \n",
       "11961        Reddit  29-12-2021 12:52:10   \n",
       "18074  HardwareZone  01-01-2022 18:45:53   \n",
       "7511         Reddit  30-12-2021 02:54:50   \n",
       "\n",
       "                                                    body  \\\n",
       "7508   My unpopular opinion is that Peloton branded c...   \n",
       "10446  Adidas.\\n\\nJ'utilise encore la trousse de toil...   \n",
       "11961  Ebay nervt leider auch sehr. Wenn du begehrte ...   \n",
       "18074  New Balance lost to Nike and adidas worldwide ...   \n",
       "7511   Pogba is trash IMO. You can do a lot better th...   \n",
       "\n",
       "                                             token_words  \\\n",
       "7508   ['unpopular', 'opinion', 'peloton', 'branded',...   \n",
       "10446  ['adidas', 'jutilise', 'encore', 'la', 'trouss...   \n",
       "11961  ['ebay', 'nervt', 'leider', 'auch', 'sehr', 'w...   \n",
       "18074  ['balance', 'lost', 'nike', 'adidas', 'worldwi...   \n",
       "7511   ['pogba', 'trash', 'imo', 'lot', 'defensive', ...   \n",
       "\n",
       "                                              lemmatized  \\\n",
       "7508   ['unpopular', 'opinion', 'peloton', 'branded',...   \n",
       "10446  ['adidas', 'jutilise', 'encore', 'la', 'trouss...   \n",
       "11961  ['ebay', 'nervt', 'leider', 'auch', 'sehr', 'w...   \n",
       "18074  ['balance', 'lost', 'nike', 'adidas', 'worldwi...   \n",
       "7511   ['pogba', 'trash', 'imo', 'lot', 'defensive', ...   \n",
       "\n",
       "                                              clean_body            label  \\\n",
       "7508   unpopular opinion peloton branded clothing pri...  adidas and nike   \n",
       "10446        jutilise encore la trousse toilette an tard           adidas   \n",
       "11961  ebay nervt leider auch sehr wenn du begehrte m...             nike   \n",
       "18074  balance lost   worldwide singapore footlocker ...  adidas and nike   \n",
       "7511   pogba trash imo lot defensive midfielder onyek...           adidas   \n",
       "\n",
       "                                                  scores  compound  \\\n",
       "7508   {'neg': 0.071, 'neu': 0.817, 'pos': 0.112, 'co...   -0.0268   \n",
       "10446  {'neg': 0.368, 'neu': 0.632, 'pos': 0.0, 'comp...   -0.5423   \n",
       "11961  {'neg': 0.231, 'neu': 0.689, 'pos': 0.08, 'com...   -0.7783   \n",
       "18074  {'neg': 0.187, 'neu': 0.813, 'pos': 0.0, 'comp...   -0.3182   \n",
       "7511   {'neg': 0.13, 'neu': 0.823, 'pos': 0.048, 'com...   -0.4404   \n",
       "\n",
       "      sentiment_type  \n",
       "7508        NEGATIVE  \n",
       "10446       NEGATIVE  \n",
       "11961       NEGATIVE  \n",
       "18074       NEGATIVE  \n",
       "7511        NEGATIVE  "
      ]
     },
     "execution_count": 6,
     "metadata": {},
     "output_type": "execute_result"
    }
   ],
   "source": [
    "df[df['sentiment_type'] == 'NEGATIVE'].sample(n = 5)"
   ]
  },
  {
   "cell_type": "code",
   "execution_count": 7,
   "id": "e8fb22d3",
   "metadata": {
    "execution": {
     "iopub.execute_input": "2022-05-23T06:15:49.288969Z",
     "iopub.status.busy": "2022-05-23T06:15:49.277998Z",
     "iopub.status.idle": "2022-05-23T06:15:49.290963Z",
     "shell.execute_reply": "2022-05-23T06:15:49.290963Z"
    }
   },
   "outputs": [
    {
     "data": {
      "text/html": [
       "<div>\n",
       "<style scoped>\n",
       "    .dataframe tbody tr th:only-of-type {\n",
       "        vertical-align: middle;\n",
       "    }\n",
       "\n",
       "    .dataframe tbody tr th {\n",
       "        vertical-align: top;\n",
       "    }\n",
       "\n",
       "    .dataframe thead th {\n",
       "        text-align: right;\n",
       "    }\n",
       "</style>\n",
       "<table border=\"1\" class=\"dataframe\">\n",
       "  <thead>\n",
       "    <tr style=\"text-align: right;\">\n",
       "      <th></th>\n",
       "      <th>platform</th>\n",
       "      <th>date</th>\n",
       "      <th>body</th>\n",
       "      <th>token_words</th>\n",
       "      <th>lemmatized</th>\n",
       "      <th>clean_body</th>\n",
       "      <th>label</th>\n",
       "      <th>scores</th>\n",
       "      <th>compound</th>\n",
       "      <th>sentiment_type</th>\n",
       "    </tr>\n",
       "  </thead>\n",
       "  <tbody>\n",
       "    <tr>\n",
       "      <th>15230</th>\n",
       "      <td>Facebook</td>\n",
       "      <td>23-05-2020 13:57:18</td>\n",
       "      <td>Zahlt lieber eure Miete! #shameonyou</td>\n",
       "      <td>['zahlt', 'lieber', 'eure', 'miete', 'shameony...</td>\n",
       "      <td>['zahlt', 'lieber', 'eure', 'miete', 'shameony...</td>\n",
       "      <td>zahlt lieber eure miete shameonyou</td>\n",
       "      <td>adidas</td>\n",
       "      <td>{'neg': 0.0, 'neu': 1.0, 'pos': 0.0, 'compound...</td>\n",
       "      <td>0.0</td>\n",
       "      <td>NEUTRAL</td>\n",
       "    </tr>\n",
       "    <tr>\n",
       "      <th>4483</th>\n",
       "      <td>Twitter</td>\n",
       "      <td>08-11-2021 23:28:50</td>\n",
       "      <td>Nike Air Max Triax https://t.co/dvjcNmaJ2y</td>\n",
       "      <td>['nike', 'air', 'max', 'triax']</td>\n",
       "      <td>['nike', 'air', 'max', 'triax']</td>\n",
       "      <td>air max triax</td>\n",
       "      <td>nike</td>\n",
       "      <td>{'neg': 0.0, 'neu': 1.0, 'pos': 0.0, 'compound...</td>\n",
       "      <td>0.0</td>\n",
       "      <td>NEUTRAL</td>\n",
       "    </tr>\n",
       "    <tr>\n",
       "      <th>15287</th>\n",
       "      <td>Facebook</td>\n",
       "      <td>23-05-2020 13:57:22</td>\n",
       "      <td>De site werk niet jullie tel.nr ook niet email...</td>\n",
       "      <td>['site', 'werk', 'niet', 'jullie', 'telnr', 'o...</td>\n",
       "      <td>['site', 'werk', 'niet', 'jullie', 'telnr', 'o...</td>\n",
       "      <td>site werk niet jullie telnr ook niet email ema...</td>\n",
       "      <td>adidas</td>\n",
       "      <td>{'neg': 0.0, 'neu': 1.0, 'pos': 0.0, 'compound...</td>\n",
       "      <td>0.0</td>\n",
       "      <td>NEUTRAL</td>\n",
       "    </tr>\n",
       "    <tr>\n",
       "      <th>15802</th>\n",
       "      <td>Facebook</td>\n",
       "      <td>23-01-2022 13:55:31</td>\n",
       "      <td>Excelent 🤩🙏</td>\n",
       "      <td>['excelent']</td>\n",
       "      <td>['excelent']</td>\n",
       "      <td>excelent</td>\n",
       "      <td>nike</td>\n",
       "      <td>{'neg': 0.0, 'neu': 1.0, 'pos': 0.0, 'compound...</td>\n",
       "      <td>0.0</td>\n",
       "      <td>NEUTRAL</td>\n",
       "    </tr>\n",
       "    <tr>\n",
       "      <th>2117</th>\n",
       "      <td>Twitter</td>\n",
       "      <td>28-09-2020 23:25:53</td>\n",
       "      <td>Messi swapped his boots mid-game... Adidas nee...</td>\n",
       "      <td>['messi', 'swapped', 'boots', 'midgame', 'adid...</td>\n",
       "      <td>['messi', 'swapped', 'boot', 'midgame', 'adidas']</td>\n",
       "      <td>messi swapped boot midgame</td>\n",
       "      <td>adidas</td>\n",
       "      <td>{'neg': 0.0, 'neu': 1.0, 'pos': 0.0, 'compound...</td>\n",
       "      <td>0.0</td>\n",
       "      <td>NEUTRAL</td>\n",
       "    </tr>\n",
       "  </tbody>\n",
       "</table>\n",
       "</div>"
      ],
      "text/plain": [
       "       platform                 date  \\\n",
       "15230  Facebook  23-05-2020 13:57:18   \n",
       "4483    Twitter  08-11-2021 23:28:50   \n",
       "15287  Facebook  23-05-2020 13:57:22   \n",
       "15802  Facebook  23-01-2022 13:55:31   \n",
       "2117    Twitter  28-09-2020 23:25:53   \n",
       "\n",
       "                                                    body  \\\n",
       "15230               Zahlt lieber eure Miete! #shameonyou   \n",
       "4483          Nike Air Max Triax https://t.co/dvjcNmaJ2y   \n",
       "15287  De site werk niet jullie tel.nr ook niet email...   \n",
       "15802                                        Excelent 🤩🙏   \n",
       "2117   Messi swapped his boots mid-game... Adidas nee...   \n",
       "\n",
       "                                             token_words  \\\n",
       "15230  ['zahlt', 'lieber', 'eure', 'miete', 'shameony...   \n",
       "4483                     ['nike', 'air', 'max', 'triax']   \n",
       "15287  ['site', 'werk', 'niet', 'jullie', 'telnr', 'o...   \n",
       "15802                                       ['excelent']   \n",
       "2117   ['messi', 'swapped', 'boots', 'midgame', 'adid...   \n",
       "\n",
       "                                              lemmatized  \\\n",
       "15230  ['zahlt', 'lieber', 'eure', 'miete', 'shameony...   \n",
       "4483                     ['nike', 'air', 'max', 'triax']   \n",
       "15287  ['site', 'werk', 'niet', 'jullie', 'telnr', 'o...   \n",
       "15802                                       ['excelent']   \n",
       "2117   ['messi', 'swapped', 'boot', 'midgame', 'adidas']   \n",
       "\n",
       "                                              clean_body   label  \\\n",
       "15230                 zahlt lieber eure miete shameonyou  adidas   \n",
       "4483                                       air max triax    nike   \n",
       "15287  site werk niet jullie telnr ook niet email ema...  adidas   \n",
       "15802                                           excelent    nike   \n",
       "2117                          messi swapped boot midgame  adidas   \n",
       "\n",
       "                                                  scores  compound  \\\n",
       "15230  {'neg': 0.0, 'neu': 1.0, 'pos': 0.0, 'compound...       0.0   \n",
       "4483   {'neg': 0.0, 'neu': 1.0, 'pos': 0.0, 'compound...       0.0   \n",
       "15287  {'neg': 0.0, 'neu': 1.0, 'pos': 0.0, 'compound...       0.0   \n",
       "15802  {'neg': 0.0, 'neu': 1.0, 'pos': 0.0, 'compound...       0.0   \n",
       "2117   {'neg': 0.0, 'neu': 1.0, 'pos': 0.0, 'compound...       0.0   \n",
       "\n",
       "      sentiment_type  \n",
       "15230        NEUTRAL  \n",
       "4483         NEUTRAL  \n",
       "15287        NEUTRAL  \n",
       "15802        NEUTRAL  \n",
       "2117         NEUTRAL  "
      ]
     },
     "execution_count": 7,
     "metadata": {},
     "output_type": "execute_result"
    }
   ],
   "source": [
    "df[df['sentiment_type'] == 'NEUTRAL'].sample(n = 5)"
   ]
  },
  {
   "cell_type": "code",
   "execution_count": 8,
   "id": "e5d03ac8",
   "metadata": {
    "execution": {
     "iopub.execute_input": "2022-05-23T06:15:49.293955Z",
     "iopub.status.busy": "2022-05-23T06:15:49.293955Z",
     "iopub.status.idle": "2022-05-23T06:15:49.307433Z",
     "shell.execute_reply": "2022-05-23T06:15:49.306405Z"
    }
   },
   "outputs": [
    {
     "data": {
      "text/plain": [
       "['nike', 'adidas']"
      ]
     },
     "execution_count": 8,
     "metadata": {},
     "output_type": "execute_result"
    }
   ],
   "source": [
    "keywords = df['label'].value_counts()[:2].index.tolist()\n",
    "keywords"
   ]
  },
  {
   "cell_type": "code",
   "execution_count": 9,
   "id": "eaf3f801",
   "metadata": {
    "execution": {
     "iopub.execute_input": "2022-05-23T06:15:49.310394Z",
     "iopub.status.busy": "2022-05-23T06:15:49.310394Z",
     "iopub.status.idle": "2022-05-23T06:15:49.322782Z",
     "shell.execute_reply": "2022-05-23T06:15:49.322782Z"
    }
   },
   "outputs": [
    {
     "name": "stdout",
     "output_type": "stream",
     "text": [
      "Overall Sentiment (nike OR adidas)\n",
      "POSTIVE: 6947\n",
      "NEGATIVE: 3574\n",
      "NEUTRAL: 7706\n"
     ]
    }
   ],
   "source": [
    "s = f'Overall Sentiment ({keywords[0]} OR {keywords[1]})'\n",
    "print(s)\n",
    "print('POSTIVE: ' + str((df['sentiment_type'] =='POSITIVE').sum()))\n",
    "print('NEGATIVE: ' + str((df['sentiment_type'] =='NEGATIVE').sum()))\n",
    "print('NEUTRAL: ' + str((df['sentiment_type'] =='NEUTRAL').sum()))"
   ]
  },
  {
   "cell_type": "code",
   "execution_count": 10,
   "id": "a0432959",
   "metadata": {
    "execution": {
     "iopub.execute_input": "2022-05-23T06:15:49.325774Z",
     "iopub.status.busy": "2022-05-23T06:15:49.325774Z",
     "iopub.status.idle": "2022-05-23T06:15:50.027529Z",
     "shell.execute_reply": "2022-05-23T06:15:50.027529Z"
    }
   },
   "outputs": [
    {
     "data": {
      "text/plain": [
       "<AxesSubplot:title={'center':'Overall Sentiment (nike OR adidas)'}, ylabel='None'>"
      ]
     },
     "execution_count": 10,
     "metadata": {},
     "output_type": "execute_result"
    },
    {
     "data": {
      "image/png": "[encoded data removed]",
      "text/plain": [
       "<Figure size 432x288 with 1 Axes>"
      ]
     },
     "metadata": {},
     "output_type": "display_data"
    }
   ],
   "source": [
    "df.groupby('sentiment_type').size().plot(kind='pie',  autopct='%1.2f%%', title=s)"
   ]
  },
  {
   "cell_type": "code",
   "execution_count": 11,
   "id": "957a8e28",
   "metadata": {
    "execution": {
     "iopub.execute_input": "2022-05-23T06:15:50.031486Z",
     "iopub.status.busy": "2022-05-23T06:15:50.031486Z",
     "iopub.status.idle": "2022-05-23T06:15:50.042807Z",
     "shell.execute_reply": "2022-05-23T06:15:50.042807Z"
    }
   },
   "outputs": [
    {
     "name": "stdout",
     "output_type": "stream",
     "text": [
      "Sentiment for nike\n",
      "POSTIVE: 3120\n",
      "NEGATIVE: 1827\n",
      "NEUTRAL: 3912\n"
     ]
    }
   ],
   "source": [
    "df1 = df[df['label'] == keywords[0]]\n",
    "\n",
    "s1 = f'Sentiment for {keywords[0]}'\n",
    "print(s1)\n",
    "print('POSTIVE: ' + str((df1['sentiment_type'] =='POSITIVE').sum()))\n",
    "print('NEGATIVE: ' + str((df1['sentiment_type'] =='NEGATIVE').sum()))\n",
    "print('NEUTRAL: ' + str((df1['sentiment_type'] =='NEUTRAL').sum()))"
   ]
  },
  {
   "cell_type": "code",
   "execution_count": 12,
   "id": "961e6709",
   "metadata": {
    "execution": {
     "iopub.execute_input": "2022-05-23T06:15:50.045833Z",
     "iopub.status.busy": "2022-05-23T06:15:50.044836Z",
     "iopub.status.idle": "2022-05-23T06:15:50.057885Z",
     "shell.execute_reply": "2022-05-23T06:15:50.057885Z"
    }
   },
   "outputs": [
    {
     "name": "stdout",
     "output_type": "stream",
     "text": [
      "No of rows:  8859\n"
     ]
    }
   ],
   "source": [
    "print('No of rows: ', df1.shape[0])"
   ]
  },
  {
   "cell_type": "code",
   "execution_count": 13,
   "id": "67d27bc4",
   "metadata": {
    "execution": {
     "iopub.execute_input": "2022-05-23T06:15:50.060878Z",
     "iopub.status.busy": "2022-05-23T06:15:50.060878Z",
     "iopub.status.idle": "2022-05-23T06:15:50.122007Z",
     "shell.execute_reply": "2022-05-23T06:15:50.120978Z"
    }
   },
   "outputs": [
    {
     "data": {
      "text/plain": [
       "<AxesSubplot:title={'center':'Sentiment for nike'}, ylabel='None'>"
      ]
     },
     "execution_count": 13,
     "metadata": {},
     "output_type": "execute_result"
    },
    {
     "data": {
      "image/png": "[encoded data removed]",
      "text/plain": [
       "<Figure size 432x288 with 1 Axes>"
      ]
     },
     "metadata": {},
     "output_type": "display_data"
    }
   ],
   "source": [
    "df1.groupby('sentiment_type').size().plot(kind='pie',  autopct='%1.2f%%', title=s1)"
   ]
  },
  {
   "cell_type": "code",
   "execution_count": 14,
   "id": "5f0425da",
   "metadata": {
    "execution": {
     "iopub.execute_input": "2022-05-23T06:15:50.125018Z",
     "iopub.status.busy": "2022-05-23T06:15:50.125018Z",
     "iopub.status.idle": "2022-05-23T06:15:50.137196Z",
     "shell.execute_reply": "2022-05-23T06:15:50.137196Z"
    }
   },
   "outputs": [
    {
     "name": "stdout",
     "output_type": "stream",
     "text": [
      "Sentiment for adidas\n",
      "POSTIVE: 3079\n",
      "NEGATIVE: 1399\n",
      "NEUTRAL: 3303\n"
     ]
    }
   ],
   "source": [
    "df2 = df[df['label'] == keywords[1]]\n",
    "\n",
    "s2 = f'Sentiment for {keywords[1]}'\n",
    "print(s2)\n",
    "print('POSTIVE: ' + str((df2['sentiment_type'] =='POSITIVE').sum()))\n",
    "print('NEGATIVE: ' + str((df2['sentiment_type'] =='NEGATIVE').sum()))\n",
    "print('NEUTRAL: ' + str((df2['sentiment_type'] =='NEUTRAL').sum()))"
   ]
  },
  {
   "cell_type": "code",
   "execution_count": 15,
   "id": "9de7284d",
   "metadata": {
    "execution": {
     "iopub.execute_input": "2022-05-23T06:15:50.140237Z",
     "iopub.status.busy": "2022-05-23T06:15:50.140237Z",
     "iopub.status.idle": "2022-05-23T06:15:50.152861Z",
     "shell.execute_reply": "2022-05-23T06:15:50.151830Z"
    }
   },
   "outputs": [
    {
     "name": "stdout",
     "output_type": "stream",
     "text": [
      "No of rows:  7781\n"
     ]
    }
   ],
   "source": [
    "print('No of rows: ', df2.shape[0])"
   ]
  },
  {
   "cell_type": "code",
   "execution_count": 16,
   "id": "d5701203",
   "metadata": {
    "execution": {
     "iopub.execute_input": "2022-05-23T06:15:50.155864Z",
     "iopub.status.busy": "2022-05-23T06:15:50.154852Z",
     "iopub.status.idle": "2022-05-23T06:15:50.215967Z",
     "shell.execute_reply": "2022-05-23T06:15:50.214970Z"
    }
   },
   "outputs": [
    {
     "data": {
      "text/plain": [
       "<AxesSubplot:title={'center':'Sentiment for adidas'}, ylabel='None'>"
      ]
     },
     "execution_count": 16,
     "metadata": {},
     "output_type": "execute_result"
    },
    {
     "data": {
      "image/png": "[encoded data removed]",
      "text/plain": [
       "<Figure size 432x288 with 1 Axes>"
      ]
     },
     "metadata": {},
     "output_type": "display_data"
    }
   ],
   "source": [
    "df2.groupby('sentiment_type').size().plot(kind='pie',  autopct='%1.2f%%', title=s2)"
   ]
  },
  {
   "cell_type": "code",
   "execution_count": 17,
   "id": "5406d6cb",
   "metadata": {
    "execution": {
     "iopub.execute_input": "2022-05-23T06:15:50.219987Z",
     "iopub.status.busy": "2022-05-23T06:15:50.218958Z",
     "iopub.status.idle": "2022-05-23T06:15:50.231151Z",
     "shell.execute_reply": "2022-05-23T06:15:50.232150Z"
    }
   },
   "outputs": [
    {
     "name": "stdout",
     "output_type": "stream",
     "text": [
      "Sentiment for nike AND adidas\n",
      "POSTIVE: 748\n",
      "NEGATIVE: 348\n",
      "NEUTRAL: 491\n"
     ]
    }
   ],
   "source": [
    "df3 = df[(df['label'] == f'{keywords[0]} and {keywords[1]}') | (df['label'] == f'{keywords[1]} and {keywords[0]}')]\n",
    "\n",
    "s3 = f'Sentiment for {keywords[0]} AND {keywords[1]}'\n",
    "print(s3)\n",
    "print('POSTIVE: ' + str((df3['sentiment_type'] =='POSITIVE').sum()))\n",
    "print('NEGATIVE: ' + str((df3['sentiment_type'] =='NEGATIVE').sum()))\n",
    "print('NEUTRAL: ' + str((df3['sentiment_type'] =='NEUTRAL').sum()))"
   ]
  },
  {
   "cell_type": "code",
   "execution_count": 18,
   "id": "c9f20e35",
   "metadata": {
    "execution": {
     "iopub.execute_input": "2022-05-23T06:15:50.235142Z",
     "iopub.status.busy": "2022-05-23T06:15:50.234179Z",
     "iopub.status.idle": "2022-05-23T06:15:50.246572Z",
     "shell.execute_reply": "2022-05-23T06:15:50.247604Z"
    }
   },
   "outputs": [
    {
     "name": "stdout",
     "output_type": "stream",
     "text": [
      "No of rows:  1587\n"
     ]
    }
   ],
   "source": [
    "print('No of rows: ', df3.shape[0])"
   ]
  },
  {
   "cell_type": "code",
   "execution_count": 19,
   "id": "4cdfc76d",
   "metadata": {
    "execution": {
     "iopub.execute_input": "2022-05-23T06:15:50.250564Z",
     "iopub.status.busy": "2022-05-23T06:15:50.249566Z",
     "iopub.status.idle": "2022-05-23T06:15:50.309694Z",
     "shell.execute_reply": "2022-05-23T06:15:50.309694Z"
    }
   },
   "outputs": [
    {
     "data": {
      "text/plain": [
       "<AxesSubplot:title={'center':'Sentiment for nike AND adidas'}, ylabel='None'>"
      ]
     },
     "execution_count": 19,
     "metadata": {},
     "output_type": "execute_result"
    },
    {
     "data": {
      "image/png": "[encoded data removed]",
      "text/plain": [
       "<Figure size 432x288 with 1 Axes>"
      ]
     },
     "metadata": {},
     "output_type": "display_data"
    }
   ],
   "source": [
    "df3.groupby('sentiment_type').size().plot(kind='pie',  autopct='%1.2f%%', title=s3)"
   ]
  },
  {
   "cell_type": "code",
   "execution_count": 20,
   "id": "198dfe47",
   "metadata": {
    "execution": {
     "iopub.execute_input": "2022-05-23T06:15:50.313683Z",
     "iopub.status.busy": "2022-05-23T06:15:50.313683Z",
     "iopub.status.idle": "2022-05-23T06:15:51.731938Z",
     "shell.execute_reply": "2022-05-23T06:15:51.731938Z"
    }
   },
   "outputs": [
    {
     "data": {
      "text/plain": [
       "sentiment_type\n",
       "NEGATIVE    AxesSubplot(0.125,0.2;0.775x0.68)\n",
       "NEUTRAL     AxesSubplot(0.125,0.2;0.775x0.68)\n",
       "POSITIVE    AxesSubplot(0.125,0.2;0.775x0.68)\n",
       "Name: values, dtype: object"
      ]
     },
     "execution_count": 20,
     "metadata": {},
     "output_type": "execute_result"
    },
    {
     "data": {
      "image/png": "[encoded data removed]",
      "text/plain": [
       "<Figure size 1080x360 with 1 Axes>"
      ]
     },
     "metadata": {
      "needs_background": "light"
     },
     "output_type": "display_data"
    }
   ],
   "source": [
    "# df = df[pd.to_datetime(df['date']) > datetime.datetime(2022,1,1)]\n",
    "\n",
    "df_time = df.groupby(['date','sentiment_type']).size()\n",
    "df_time = df_time.to_frame().reset_index()\n",
    "df_time = df_time.rename(columns={\"index\": \"date\", 0:\"values\"})\n",
    "\n",
    "df_time['date'] = pd.to_datetime(df_time['date'])\n",
    "df_time = df_time.set_index('date')\n",
    "df_mavg = df_time.groupby([pd.Grouper(freq='M'), 'sentiment_type'])['values'].sum()\n",
    "\n",
    "df_mavg = df_mavg.to_frame()\n",
    "df_mavg = df_mavg.reset_index()\n",
    "df_mavg.set_index('date', inplace=True)\n",
    "df_mavg.groupby('sentiment_type')['values'].plot(figsize=(15,5), legend=True, title=s)"
   ]
  },
  {
   "cell_type": "code",
   "execution_count": 21,
   "id": "c07738f7",
   "metadata": {
    "execution": {
     "iopub.execute_input": "2022-05-23T06:15:51.736957Z",
     "iopub.status.busy": "2022-05-23T06:15:51.735939Z",
     "iopub.status.idle": "2022-05-23T06:15:52.491065Z",
     "shell.execute_reply": "2022-05-23T06:15:52.491065Z"
    }
   },
   "outputs": [
    {
     "data": {
      "text/plain": [
       "sentiment_type\n",
       "NEGATIVE    AxesSubplot(0.125,0.2;0.775x0.68)\n",
       "NEUTRAL     AxesSubplot(0.125,0.2;0.775x0.68)\n",
       "POSITIVE    AxesSubplot(0.125,0.2;0.775x0.68)\n",
       "Name: values, dtype: object"
      ]
     },
     "execution_count": 21,
     "metadata": {},
     "output_type": "execute_result"
    },
    {
     "data": {
      "image/png": "[encoded data removed]",
      "text/plain": [
       "<Figure size 1080x360 with 1 Axes>"
      ]
     },
     "metadata": {
      "needs_background": "light"
     },
     "output_type": "display_data"
    }
   ],
   "source": [
    "df_time = df1.groupby(['date','sentiment_type']).size()\n",
    "df_time = df_time.to_frame().reset_index()\n",
    "df_time = df_time.rename(columns={\"index\": \"date\", 0:\"values\"})\n",
    "\n",
    "df_time['date'] = pd.to_datetime(df_time['date'])\n",
    "df_time = df_time.set_index('date')\n",
    "df_mavg = df_time.groupby([pd.Grouper(freq='M'), 'sentiment_type'])['values'].sum()\n",
    "\n",
    "df_mavg = df_mavg.to_frame()\n",
    "df_mavg = df_mavg.reset_index()\n",
    "df_mavg.set_index('date', inplace=True)\n",
    "df_mavg.groupby('sentiment_type')['values'].plot(figsize=(15,5), legend=True, title=s1)"
   ]
  },
  {
   "cell_type": "code",
   "execution_count": 22,
   "id": "df15cb6a",
   "metadata": {
    "execution": {
     "iopub.execute_input": "2022-05-23T06:15:52.495035Z",
     "iopub.status.busy": "2022-05-23T06:15:52.495035Z",
     "iopub.status.idle": "2022-05-23T06:15:53.218573Z",
     "shell.execute_reply": "2022-05-23T06:15:53.218573Z"
    }
   },
   "outputs": [
    {
     "data": {
      "text/plain": [
       "sentiment_type\n",
       "NEGATIVE    AxesSubplot(0.125,0.2;0.775x0.68)\n",
       "NEUTRAL     AxesSubplot(0.125,0.2;0.775x0.68)\n",
       "POSITIVE    AxesSubplot(0.125,0.2;0.775x0.68)\n",
       "Name: values, dtype: object"
      ]
     },
     "execution_count": 22,
     "metadata": {},
     "output_type": "execute_result"
    },
    {
     "data": {
      "image/png": "[encoded data removed]",
      "text/plain": [
       "<Figure size 1080x360 with 1 Axes>"
      ]
     },
     "metadata": {
      "needs_background": "light"
     },
     "output_type": "display_data"
    }
   ],
   "source": [
    "df_time = df2.groupby(['date','sentiment_type']).size()\n",
    "df_time = df_time.to_frame().reset_index()\n",
    "df_time = df_time.rename(columns={\"index\": \"date\", 0:\"values\"})\n",
    "\n",
    "df_time['date'] = pd.to_datetime(df_time['date'])\n",
    "df_time = df_time.set_index('date')\n",
    "df_mavg = df_time.groupby([pd.Grouper(freq='M'), 'sentiment_type'])['values'].sum()\n",
    "\n",
    "df_mavg = df_mavg.to_frame()\n",
    "df_mavg = df_mavg.reset_index()\n",
    "df_mavg.set_index('date', inplace=True)\n",
    "df_mavg.groupby('sentiment_type')['values'].plot(figsize=(15,5), legend=True, title=s2)"
   ]
  },
  {
   "cell_type": "code",
   "execution_count": 23,
   "id": "b1fdbdc1",
   "metadata": {
    "execution": {
     "iopub.execute_input": "2022-05-23T06:15:53.222555Z",
     "iopub.status.busy": "2022-05-23T06:15:53.222555Z",
     "iopub.status.idle": "2022-05-23T06:15:53.535782Z",
     "shell.execute_reply": "2022-05-23T06:15:53.536813Z"
    }
   },
   "outputs": [
    {
     "data": {
      "text/plain": [
       "sentiment_type\n",
       "NEGATIVE    AxesSubplot(0.125,0.2;0.775x0.68)\n",
       "NEUTRAL     AxesSubplot(0.125,0.2;0.775x0.68)\n",
       "POSITIVE    AxesSubplot(0.125,0.2;0.775x0.68)\n",
       "Name: values, dtype: object"
      ]
     },
     "execution_count": 23,
     "metadata": {},
     "output_type": "execute_result"
    },
    {
     "data": {
      "image/png": "[encoded data removed]",
      "text/plain": [
       "<Figure size 1080x360 with 1 Axes>"
      ]
     },
     "metadata": {
      "needs_background": "light"
     },
     "output_type": "display_data"
    }
   ],
   "source": [
    "df_time = df3.groupby(['date','sentiment_type']).size()\n",
    "df_time = df_time.to_frame().reset_index()\n",
    "df_time = df_time.rename(columns={\"index\": \"date\", 0:\"values\"})\n",
    "\n",
    "df_time['date'] = pd.to_datetime(df_time['date'])\n",
    "df_time = df_time.set_index('date')\n",
    "df_mavg = df_time.groupby([pd.Grouper(freq='M'), 'sentiment_type'])['values'].sum()\n",
    "\n",
    "df_mavg = df_mavg.to_frame()\n",
    "df_mavg = df_mavg.reset_index()\n",
    "df_mavg.set_index('date', inplace=True)\n",
    "df_mavg.groupby('sentiment_type')['values'].plot(figsize=(15,5), legend=True, title=s3)"
   ]
  },
  {
   "cell_type": "code",
   "execution_count": 24,
   "id": "dd9448d2",
   "metadata": {
    "execution": {
     "iopub.execute_input": "2022-05-23T06:15:53.539775Z",
     "iopub.status.busy": "2022-05-23T06:15:53.538777Z",
     "iopub.status.idle": "2022-05-23T06:15:53.925121Z",
     "shell.execute_reply": "2022-05-23T06:15:53.926118Z"
    }
   },
   "outputs": [],
   "source": [
    "df.to_csv('../result_sentiment.csv', index=False)"
   ]
  }
 ],
 "metadata": {
  "kernelspec": {
   "display_name": "Python 3 (ipykernel)",
   "language": "python",
   "name": "python3"
  },
  "language_info": {
   "codemirror_mode": {
    "name": "ipython",
    "version": 3
   },
   "file_extension": ".py",
   "mimetype": "text/x-python",
   "name": "python",
   "nbconvert_exporter": "python",
   "pygments_lexer": "ipython3",
   "version": "3.8.10"
  }
 },
 "nbformat": 4,
 "nbformat_minor": 5
}
