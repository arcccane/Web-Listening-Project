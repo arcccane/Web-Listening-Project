{
 "cells": [
  {
   "cell_type": "markdown",
   "id": "cea69234",
   "metadata": {},
   "source": [
    "<h1>Sentiment Analysis</h1>\n",
    "\n",
    "<p>Sentiment analysis is the practice of using algorithms to classify various samples of related text into overall positive and negative categories.</p>\n",
    "\n",
    "<p>Using Natural Language Toolkit's (NLTK) Sentiment Intensity Analyzer, we are able to determine the ratio of positive to negative engagements about a specific topic.</p>"
   ]
  },
  {
   "cell_type": "code",
   "execution_count": 1,
   "id": "d111286d",
   "metadata": {
    "execution": {
     "iopub.execute_input": "2022-05-23T06:15:44.323424Z",
     "iopub.status.busy": "2022-05-23T06:15:44.322428Z",
     "iopub.status.idle": "2022-05-23T06:15:45.868470Z",
     "shell.execute_reply": "2022-05-23T06:15:45.868470Z"
    }
   },
   "outputs": [],
   "source": [
    "import pandas as pd\n",
    "import matplotlib\n",
    "import warnings\n",
    "import nltk\n",
    "\n",
    "from nltk.sentiment.vader import SentimentIntensityAnalyzer\n",
    "nltk.download('vader_lexicon', quiet=True)\n",
    "warnings.filterwarnings(\"ignore\",category=DeprecationWarning)"
   ]
  },
  {
   "cell_type": "code",
   "execution_count": 2,
   "id": "ae7ba9b6",
   "metadata": {
    "execution": {
     "iopub.execute_input": "2022-05-23T06:15:45.871461Z",
     "iopub.status.busy": "2022-05-23T06:15:45.871461Z",
     "iopub.status.idle": "2022-05-23T06:15:46.073727Z",
     "shell.execute_reply": "2022-05-23T06:15:46.074724Z"
    }
   },
   "outputs": [
    {
     "data": {
      "text/html": [
       "<div>\n",
       "<style scoped>\n",
       "    .dataframe tbody tr th:only-of-type {\n",
       "        vertical-align: middle;\n",
       "    }\n",
       "\n",
       "    .dataframe tbody tr th {\n",
       "        vertical-align: top;\n",
       "    }\n",
       "\n",
       "    .dataframe thead th {\n",
       "        text-align: right;\n",
       "    }\n",
       "</style>\n",
       "<table border=\"1\" class=\"dataframe\">\n",
       "  <thead>\n",
       "    <tr style=\"text-align: right;\">\n",
       "      <th></th>\n",
       "      <th>platform</th>\n",
       "      <th>date</th>\n",
       "      <th>body</th>\n",
       "      <th>token_words</th>\n",
       "      <th>lemmatized</th>\n",
       "      <th>clean_body</th>\n",
       "      <th>label</th>\n",
       "    </tr>\n",
       "  </thead>\n",
       "  <tbody>\n",
       "    <tr>\n",
       "      <th>0</th>\n",
       "      <td>Twitter</td>\n",
       "      <td>30-12-2021 18:38:04</td>\n",
       "      <td>adidas Yeezy Boost 350 V2 “Dazzling Blue” 👟\\n\\...</td>\n",
       "      <td>['adidas', 'yeezy', 'boost', 'dazzling', 'blue...</td>\n",
       "      <td>['adidas', 'yeezy', 'boost', 'dazzling', 'blue...</td>\n",
       "      <td>yeezy boost dazzling blue coming yankeekicks ig</td>\n",
       "      <td>adidas</td>\n",
       "    </tr>\n",
       "    <tr>\n",
       "      <th>1</th>\n",
       "      <td>Twitter</td>\n",
       "      <td>30-12-2021 17:43:37</td>\n",
       "      <td>Am over the worst of Omicron. Alhumdullilah. I...</td>\n",
       "      <td>['worst', 'omicron', 'alhumdullilah', 'cupcake...</td>\n",
       "      <td>['worst', 'omicron', 'alhumdullilah', 'cupcake...</td>\n",
       "      <td>worst omicron alhumdullilah cupcake breakfast ...</td>\n",
       "      <td>adidas</td>\n",
       "    </tr>\n",
       "    <tr>\n",
       "      <th>2</th>\n",
       "      <td>Twitter</td>\n",
       "      <td>30-12-2021 06:28:19</td>\n",
       "      <td>🎁 I'm blessing 1 follower with life changing N...</td>\n",
       "      <td>['blessing', 'follower', 'life', 'changing', '...</td>\n",
       "      <td>['blessing', 'follower', 'life', 'changing', '...</td>\n",
       "      <td>blessing follower life changing nfts hour orig...</td>\n",
       "      <td>adidas</td>\n",
       "    </tr>\n",
       "    <tr>\n",
       "      <th>3</th>\n",
       "      <td>Twitter</td>\n",
       "      <td>29-12-2021 22:31:57</td>\n",
       "      <td>South Park and adidas have a new “Professor Ch...</td>\n",
       "      <td>['south', 'park', 'adidas', 'professor', 'chao...</td>\n",
       "      <td>['south', 'park', 'adidas', 'professor', 'chao...</td>\n",
       "      <td>south park  professor chaos nmd releasing</td>\n",
       "      <td>adidas</td>\n",
       "    </tr>\n",
       "    <tr>\n",
       "      <th>4</th>\n",
       "      <td>Twitter</td>\n",
       "      <td>29-12-2021 19:29:20</td>\n",
       "      <td>Please patronise me, I sell Adidas shoes for 1...</td>\n",
       "      <td>['patronise', 'sell', 'adidas', 'shoes', 'fake...</td>\n",
       "      <td>['patronise', 'sell', 'adidas', 'shoe', 'fake'...</td>\n",
       "      <td>patronise sell  shoe fake walk fast notice</td>\n",
       "      <td>adidas</td>\n",
       "    </tr>\n",
       "    <tr>\n",
       "      <th>...</th>\n",
       "      <td>...</td>\n",
       "      <td>...</td>\n",
       "      <td>...</td>\n",
       "      <td>...</td>\n",
       "      <td>...</td>\n",
       "      <td>...</td>\n",
       "      <td>...</td>\n",
       "    </tr>\n",
       "    <tr>\n",
       "      <th>18130</th>\n",
       "      <td>HardwareZone</td>\n",
       "      <td>20-08-2008 01:52:51</td>\n",
       "      <td>jus came back from hk.\\n\\n\\nAdidas Factory out...</td>\n",
       "      <td>['jus', 'hk', 'adidas', 'factory', 'outlet', '...</td>\n",
       "      <td>['jus', 'hk', 'adidas', 'factory', 'outlet', '...</td>\n",
       "      <td>jus hk  factory outlet location block hong kon...</td>\n",
       "      <td>adidas</td>\n",
       "    </tr>\n",
       "    <tr>\n",
       "      <th>18131</th>\n",
       "      <td>HardwareZone</td>\n",
       "      <td>24-08-2008 15:03:34</td>\n",
       "      <td>Me and hubby like Citygate leh. Polo Ralph Pol...</td>\n",
       "      <td>['hubby', 'citygate', 'leh', 'polo', 'ralph', ...</td>\n",
       "      <td>['hubby', 'citygate', 'leh', 'polo', 'ralph', ...</td>\n",
       "      <td>hubby citygate leh polo ralph polo tee pretty ...</td>\n",
       "      <td>adidas and nike</td>\n",
       "    </tr>\n",
       "    <tr>\n",
       "      <th>18132</th>\n",
       "      <td>HardwareZone</td>\n",
       "      <td>11-10-2008 04:19:53</td>\n",
       "      <td>helpp!\\n\\nOkay, I am from Toronto &amp; I'm going ...</td>\n",
       "      <td>['helpp', 'toronto', 'hong', 'kong', 'december...</td>\n",
       "      <td>['helpp', 'toronto', 'hong', 'kong', 'december...</td>\n",
       "      <td>helpp toronto hong kong december long wanna sh...</td>\n",
       "      <td>nike</td>\n",
       "    </tr>\n",
       "    <tr>\n",
       "      <th>18133</th>\n",
       "      <td>HardwareZone</td>\n",
       "      <td>30-10-2008 17:28:01</td>\n",
       "      <td>hihi... sorry all just wanna ask.. so the post...</td>\n",
       "      <td>['hihi', 'wanna', 'post', 'guide', 'monkey', '...</td>\n",
       "      <td>['hihi', 'wanna', 'post', 'guide', 'monkey', '...</td>\n",
       "      <td>hihi wanna post guide monkey post  addidas shi...</td>\n",
       "      <td>nike</td>\n",
       "    </tr>\n",
       "    <tr>\n",
       "      <th>18134</th>\n",
       "      <td>HardwareZone</td>\n",
       "      <td>10-11-2008 13:27:38</td>\n",
       "      <td>abutan said:\\nHi,\\n\\nHow do you get to CityGat...</td>\n",
       "      <td>['abutan', 'citygate', 'mtr', 'station', 'alig...</td>\n",
       "      <td>['abutan', 'citygate', 'mtr', 'station', 'alig...</td>\n",
       "      <td>abutan citygate mtr station alight happened  f...</td>\n",
       "      <td>nike</td>\n",
       "    </tr>\n",
       "  </tbody>\n",
       "</table>\n",
       "<p>18135 rows × 7 columns</p>\n",
       "</div>"
      ],
      "text/plain": [
       "           platform                 date  \\\n",
       "0           Twitter  30-12-2021 18:38:04   \n",
       "1           Twitter  30-12-2021 17:43:37   \n",
       "2           Twitter  30-12-2021 06:28:19   \n",
       "3           Twitter  29-12-2021 22:31:57   \n",
       "4           Twitter  29-12-2021 19:29:20   \n",
       "...             ...                  ...   \n",
       "18130  HardwareZone  20-08-2008 01:52:51   \n",
       "18131  HardwareZone  24-08-2008 15:03:34   \n",
       "18132  HardwareZone  11-10-2008 04:19:53   \n",
       "18133  HardwareZone  30-10-2008 17:28:01   \n",
       "18134  HardwareZone  10-11-2008 13:27:38   \n",
       "\n",
       "                                                    body  \\\n",
       "0      adidas Yeezy Boost 350 V2 “Dazzling Blue” 👟\\n\\...   \n",
       "1      Am over the worst of Omicron. Alhumdullilah. I...   \n",
       "2      🎁 I'm blessing 1 follower with life changing N...   \n",
       "3      South Park and adidas have a new “Professor Ch...   \n",
       "4      Please patronise me, I sell Adidas shoes for 1...   \n",
       "...                                                  ...   \n",
       "18130  jus came back from hk.\\n\\n\\nAdidas Factory out...   \n",
       "18131  Me and hubby like Citygate leh. Polo Ralph Pol...   \n",
       "18132  helpp!\\n\\nOkay, I am from Toronto & I'm going ...   \n",
       "18133  hihi... sorry all just wanna ask.. so the post...   \n",
       "18134  abutan said:\\nHi,\\n\\nHow do you get to CityGat...   \n",
       "\n",
       "                                             token_words  \\\n",
       "0      ['adidas', 'yeezy', 'boost', 'dazzling', 'blue...   \n",
       "1      ['worst', 'omicron', 'alhumdullilah', 'cupcake...   \n",
       "2      ['blessing', 'follower', 'life', 'changing', '...   \n",
       "3      ['south', 'park', 'adidas', 'professor', 'chao...   \n",
       "4      ['patronise', 'sell', 'adidas', 'shoes', 'fake...   \n",
       "...                                                  ...   \n",
       "18130  ['jus', 'hk', 'adidas', 'factory', 'outlet', '...   \n",
       "18131  ['hubby', 'citygate', 'leh', 'polo', 'ralph', ...   \n",
       "18132  ['helpp', 'toronto', 'hong', 'kong', 'december...   \n",
       "18133  ['hihi', 'wanna', 'post', 'guide', 'monkey', '...   \n",
       "18134  ['abutan', 'citygate', 'mtr', 'station', 'alig...   \n",
       "\n",
       "                                              lemmatized  \\\n",
       "0      ['adidas', 'yeezy', 'boost', 'dazzling', 'blue...   \n",
       "1      ['worst', 'omicron', 'alhumdullilah', 'cupcake...   \n",
       "2      ['blessing', 'follower', 'life', 'changing', '...   \n",
       "3      ['south', 'park', 'adidas', 'professor', 'chao...   \n",
       "4      ['patronise', 'sell', 'adidas', 'shoe', 'fake'...   \n",
       "...                                                  ...   \n",
       "18130  ['jus', 'hk', 'adidas', 'factory', 'outlet', '...   \n",
       "18131  ['hubby', 'citygate', 'leh', 'polo', 'ralph', ...   \n",
       "18132  ['helpp', 'toronto', 'hong', 'kong', 'december...   \n",
       "18133  ['hihi', 'wanna', 'post', 'guide', 'monkey', '...   \n",
       "18134  ['abutan', 'citygate', 'mtr', 'station', 'alig...   \n",
       "\n",
       "                                              clean_body            label  \n",
       "0        yeezy boost dazzling blue coming yankeekicks ig           adidas  \n",
       "1      worst omicron alhumdullilah cupcake breakfast ...           adidas  \n",
       "2      blessing follower life changing nfts hour orig...           adidas  \n",
       "3              south park  professor chaos nmd releasing           adidas  \n",
       "4             patronise sell  shoe fake walk fast notice           adidas  \n",
       "...                                                  ...              ...  \n",
       "18130  jus hk  factory outlet location block hong kon...           adidas  \n",
       "18131  hubby citygate leh polo ralph polo tee pretty ...  adidas and nike  \n",
       "18132  helpp toronto hong kong december long wanna sh...             nike  \n",
       "18133  hihi wanna post guide monkey post  addidas shi...             nike  \n",
       "18134  abutan citygate mtr station alight happened  f...             nike  \n",
       "\n",
       "[18135 rows x 7 columns]"
      ]
     },
     "execution_count": 2,
     "metadata": {},
     "output_type": "execute_result"
    }
   ],
   "source": [
    "df = pd.read_csv('../result_clean.csv')\n",
    "df"
   ]
  },
  {
   "cell_type": "code",
   "execution_count": 3,
   "id": "2a17676d",
   "metadata": {
    "execution": {
     "iopub.execute_input": "2022-05-23T06:15:46.077716Z",
     "iopub.status.busy": "2022-05-23T06:15:46.076718Z",
     "iopub.status.idle": "2022-05-23T06:15:49.196156Z",
     "shell.execute_reply": "2022-05-23T06:15:49.196156Z"
    }
   },
   "outputs": [
    {
     "data": {
      "text/html": [
       "<div>\n",
       "<style scoped>\n",
       "    .dataframe tbody tr th:only-of-type {\n",
       "        vertical-align: middle;\n",
       "    }\n",
       "\n",
       "    .dataframe tbody tr th {\n",
       "        vertical-align: top;\n",
       "    }\n",
       "\n",
       "    .dataframe thead th {\n",
       "        text-align: right;\n",
       "    }\n",
       "</style>\n",
       "<table border=\"1\" class=\"dataframe\">\n",
       "  <thead>\n",
       "    <tr style=\"text-align: right;\">\n",
       "      <th></th>\n",
       "      <th>platform</th>\n",
       "      <th>date</th>\n",
       "      <th>body</th>\n",
       "      <th>token_words</th>\n",
       "      <th>lemmatized</th>\n",
       "      <th>clean_body</th>\n",
       "      <th>label</th>\n",
       "      <th>scores</th>\n",
       "    </tr>\n",
       "  </thead>\n",
       "  <tbody>\n",
       "    <tr>\n",
       "      <th>0</th>\n",
       "      <td>Twitter</td>\n",
       "      <td>30-12-2021 18:38:04</td>\n",
       "      <td>adidas Yeezy Boost 350 V2 “Dazzling Blue” 👟\\n\\...</td>\n",
       "      <td>['adidas', 'yeezy', 'boost', 'dazzling', 'blue...</td>\n",
       "      <td>['adidas', 'yeezy', 'boost', 'dazzling', 'blue...</td>\n",
       "      <td>yeezy boost dazzling blue coming yankeekicks ig</td>\n",
       "      <td>adidas</td>\n",
       "      <td>{'neg': 0.0, 'neu': 0.69, 'pos': 0.31, 'compou...</td>\n",
       "    </tr>\n",
       "    <tr>\n",
       "      <th>1</th>\n",
       "      <td>Twitter</td>\n",
       "      <td>30-12-2021 17:43:37</td>\n",
       "      <td>Am over the worst of Omicron. Alhumdullilah. I...</td>\n",
       "      <td>['worst', 'omicron', 'alhumdullilah', 'cupcake...</td>\n",
       "      <td>['worst', 'omicron', 'alhumdullilah', 'cupcake...</td>\n",
       "      <td>worst omicron alhumdullilah cupcake breakfast ...</td>\n",
       "      <td>adidas</td>\n",
       "      <td>{'neg': 0.232, 'neu': 0.452, 'pos': 0.316, 'co...</td>\n",
       "    </tr>\n",
       "    <tr>\n",
       "      <th>2</th>\n",
       "      <td>Twitter</td>\n",
       "      <td>30-12-2021 06:28:19</td>\n",
       "      <td>🎁 I'm blessing 1 follower with life changing N...</td>\n",
       "      <td>['blessing', 'follower', 'life', 'changing', '...</td>\n",
       "      <td>['blessing', 'follower', 'life', 'changing', '...</td>\n",
       "      <td>blessing follower life changing nfts hour orig...</td>\n",
       "      <td>adidas</td>\n",
       "      <td>{'neg': 0.0, 'neu': 0.775, 'pos': 0.225, 'comp...</td>\n",
       "    </tr>\n",
       "    <tr>\n",
       "      <th>3</th>\n",
       "      <td>Twitter</td>\n",
       "      <td>29-12-2021 22:31:57</td>\n",
       "      <td>South Park and adidas have a new “Professor Ch...</td>\n",
       "      <td>['south', 'park', 'adidas', 'professor', 'chao...</td>\n",
       "      <td>['south', 'park', 'adidas', 'professor', 'chao...</td>\n",
       "      <td>south park  professor chaos nmd releasing</td>\n",
       "      <td>adidas</td>\n",
       "      <td>{'neg': 0.425, 'neu': 0.575, 'pos': 0.0, 'comp...</td>\n",
       "    </tr>\n",
       "    <tr>\n",
       "      <th>4</th>\n",
       "      <td>Twitter</td>\n",
       "      <td>29-12-2021 19:29:20</td>\n",
       "      <td>Please patronise me, I sell Adidas shoes for 1...</td>\n",
       "      <td>['patronise', 'sell', 'adidas', 'shoes', 'fake...</td>\n",
       "      <td>['patronise', 'sell', 'adidas', 'shoe', 'fake'...</td>\n",
       "      <td>patronise sell  shoe fake walk fast notice</td>\n",
       "      <td>adidas</td>\n",
       "      <td>{'neg': 0.341, 'neu': 0.659, 'pos': 0.0, 'comp...</td>\n",
       "    </tr>\n",
       "    <tr>\n",
       "      <th>...</th>\n",
       "      <td>...</td>\n",
       "      <td>...</td>\n",
       "      <td>...</td>\n",
       "      <td>...</td>\n",
       "      <td>...</td>\n",
       "      <td>...</td>\n",
       "      <td>...</td>\n",
       "      <td>...</td>\n",
       "    </tr>\n",
       "    <tr>\n",
       "      <th>18130</th>\n",
       "      <td>HardwareZone</td>\n",
       "      <td>20-08-2008 01:52:51</td>\n",
       "      <td>jus came back from hk.\\n\\n\\nAdidas Factory out...</td>\n",
       "      <td>['jus', 'hk', 'adidas', 'factory', 'outlet', '...</td>\n",
       "      <td>['jus', 'hk', 'adidas', 'factory', 'outlet', '...</td>\n",
       "      <td>jus hk  factory outlet location block hong kon...</td>\n",
       "      <td>adidas</td>\n",
       "      <td>{'neg': 0.068, 'neu': 0.8, 'pos': 0.132, 'comp...</td>\n",
       "    </tr>\n",
       "    <tr>\n",
       "      <th>18131</th>\n",
       "      <td>HardwareZone</td>\n",
       "      <td>24-08-2008 15:03:34</td>\n",
       "      <td>Me and hubby like Citygate leh. Polo Ralph Pol...</td>\n",
       "      <td>['hubby', 'citygate', 'leh', 'polo', 'ralph', ...</td>\n",
       "      <td>['hubby', 'citygate', 'leh', 'polo', 'ralph', ...</td>\n",
       "      <td>hubby citygate leh polo ralph polo tee pretty ...</td>\n",
       "      <td>adidas and nike</td>\n",
       "      <td>{'neg': 0.0, 'neu': 0.802, 'pos': 0.198, 'comp...</td>\n",
       "    </tr>\n",
       "    <tr>\n",
       "      <th>18132</th>\n",
       "      <td>HardwareZone</td>\n",
       "      <td>11-10-2008 04:19:53</td>\n",
       "      <td>helpp!\\n\\nOkay, I am from Toronto &amp; I'm going ...</td>\n",
       "      <td>['helpp', 'toronto', 'hong', 'kong', 'december...</td>\n",
       "      <td>['helpp', 'toronto', 'hong', 'kong', 'december...</td>\n",
       "      <td>helpp toronto hong kong december long wanna sh...</td>\n",
       "      <td>nike</td>\n",
       "      <td>{'neg': 0.0, 'neu': 0.846, 'pos': 0.154, 'comp...</td>\n",
       "    </tr>\n",
       "    <tr>\n",
       "      <th>18133</th>\n",
       "      <td>HardwareZone</td>\n",
       "      <td>30-10-2008 17:28:01</td>\n",
       "      <td>hihi... sorry all just wanna ask.. so the post...</td>\n",
       "      <td>['hihi', 'wanna', 'post', 'guide', 'monkey', '...</td>\n",
       "      <td>['hihi', 'wanna', 'post', 'guide', 'monkey', '...</td>\n",
       "      <td>hihi wanna post guide monkey post  addidas shi...</td>\n",
       "      <td>nike</td>\n",
       "      <td>{'neg': 0.0, 'neu': 1.0, 'pos': 0.0, 'compound...</td>\n",
       "    </tr>\n",
       "    <tr>\n",
       "      <th>18134</th>\n",
       "      <td>HardwareZone</td>\n",
       "      <td>10-11-2008 13:27:38</td>\n",
       "      <td>abutan said:\\nHi,\\n\\nHow do you get to CityGat...</td>\n",
       "      <td>['abutan', 'citygate', 'mtr', 'station', 'alig...</td>\n",
       "      <td>['abutan', 'citygate', 'mtr', 'station', 'alig...</td>\n",
       "      <td>abutan citygate mtr station alight happened  f...</td>\n",
       "      <td>nike</td>\n",
       "      <td>{'neg': 0.0, 'neu': 1.0, 'pos': 0.0, 'compound...</td>\n",
       "    </tr>\n",
       "  </tbody>\n",
       "</table>\n",
       "<p>18135 rows × 8 columns</p>\n",
       "</div>"
      ],
      "text/plain": [
       "           platform                 date  \\\n",
       "0           Twitter  30-12-2021 18:38:04   \n",
       "1           Twitter  30-12-2021 17:43:37   \n",
       "2           Twitter  30-12-2021 06:28:19   \n",
       "3           Twitter  29-12-2021 22:31:57   \n",
       "4           Twitter  29-12-2021 19:29:20   \n",
       "...             ...                  ...   \n",
       "18130  HardwareZone  20-08-2008 01:52:51   \n",
       "18131  HardwareZone  24-08-2008 15:03:34   \n",
       "18132  HardwareZone  11-10-2008 04:19:53   \n",
       "18133  HardwareZone  30-10-2008 17:28:01   \n",
       "18134  HardwareZone  10-11-2008 13:27:38   \n",
       "\n",
       "                                                    body  \\\n",
       "0      adidas Yeezy Boost 350 V2 “Dazzling Blue” 👟\\n\\...   \n",
       "1      Am over the worst of Omicron. Alhumdullilah. I...   \n",
       "2      🎁 I'm blessing 1 follower with life changing N...   \n",
       "3      South Park and adidas have a new “Professor Ch...   \n",
       "4      Please patronise me, I sell Adidas shoes for 1...   \n",
       "...                                                  ...   \n",
       "18130  jus came back from hk.\\n\\n\\nAdidas Factory out...   \n",
       "18131  Me and hubby like Citygate leh. Polo Ralph Pol...   \n",
       "18132  helpp!\\n\\nOkay, I am from Toronto & I'm going ...   \n",
       "18133  hihi... sorry all just wanna ask.. so the post...   \n",
       "18134  abutan said:\\nHi,\\n\\nHow do you get to CityGat...   \n",
       "\n",
       "                                             token_words  \\\n",
       "0      ['adidas', 'yeezy', 'boost', 'dazzling', 'blue...   \n",
       "1      ['worst', 'omicron', 'alhumdullilah', 'cupcake...   \n",
       "2      ['blessing', 'follower', 'life', 'changing', '...   \n",
       "3      ['south', 'park', 'adidas', 'professor', 'chao...   \n",
       "4      ['patronise', 'sell', 'adidas', 'shoes', 'fake...   \n",
       "...                                                  ...   \n",
       "18130  ['jus', 'hk', 'adidas', 'factory', 'outlet', '...   \n",
       "18131  ['hubby', 'citygate', 'leh', 'polo', 'ralph', ...   \n",
       "18132  ['helpp', 'toronto', 'hong', 'kong', 'december...   \n",
       "18133  ['hihi', 'wanna', 'post', 'guide', 'monkey', '...   \n",
       "18134  ['abutan', 'citygate', 'mtr', 'station', 'alig...   \n",
       "\n",
       "                                              lemmatized  \\\n",
       "0      ['adidas', 'yeezy', 'boost', 'dazzling', 'blue...   \n",
       "1      ['worst', 'omicron', 'alhumdullilah', 'cupcake...   \n",
       "2      ['blessing', 'follower', 'life', 'changing', '...   \n",
       "3      ['south', 'park', 'adidas', 'professor', 'chao...   \n",
       "4      ['patronise', 'sell', 'adidas', 'shoe', 'fake'...   \n",
       "...                                                  ...   \n",
       "18130  ['jus', 'hk', 'adidas', 'factory', 'outlet', '...   \n",
       "18131  ['hubby', 'citygate', 'leh', 'polo', 'ralph', ...   \n",
       "18132  ['helpp', 'toronto', 'hong', 'kong', 'december...   \n",
       "18133  ['hihi', 'wanna', 'post', 'guide', 'monkey', '...   \n",
       "18134  ['abutan', 'citygate', 'mtr', 'station', 'alig...   \n",
       "\n",
       "                                              clean_body            label  \\\n",
       "0        yeezy boost dazzling blue coming yankeekicks ig           adidas   \n",
       "1      worst omicron alhumdullilah cupcake breakfast ...           adidas   \n",
       "2      blessing follower life changing nfts hour orig...           adidas   \n",
       "3              south park  professor chaos nmd releasing           adidas   \n",
       "4             patronise sell  shoe fake walk fast notice           adidas   \n",
       "...                                                  ...              ...   \n",
       "18130  jus hk  factory outlet location block hong kon...           adidas   \n",
       "18131  hubby citygate leh polo ralph polo tee pretty ...  adidas and nike   \n",
       "18132  helpp toronto hong kong december long wanna sh...             nike   \n",
       "18133  hihi wanna post guide monkey post  addidas shi...             nike   \n",
       "18134  abutan citygate mtr station alight happened  f...             nike   \n",
       "\n",
       "                                                  scores  \n",
       "0      {'neg': 0.0, 'neu': 0.69, 'pos': 0.31, 'compou...  \n",
       "1      {'neg': 0.232, 'neu': 0.452, 'pos': 0.316, 'co...  \n",
       "2      {'neg': 0.0, 'neu': 0.775, 'pos': 0.225, 'comp...  \n",
       "3      {'neg': 0.425, 'neu': 0.575, 'pos': 0.0, 'comp...  \n",
       "4      {'neg': 0.341, 'neu': 0.659, 'pos': 0.0, 'comp...  \n",
       "...                                                  ...  \n",
       "18130  {'neg': 0.068, 'neu': 0.8, 'pos': 0.132, 'comp...  \n",
       "18131  {'neg': 0.0, 'neu': 0.802, 'pos': 0.198, 'comp...  \n",
       "18132  {'neg': 0.0, 'neu': 0.846, 'pos': 0.154, 'comp...  \n",
       "18133  {'neg': 0.0, 'neu': 1.0, 'pos': 0.0, 'compound...  \n",
       "18134  {'neg': 0.0, 'neu': 1.0, 'pos': 0.0, 'compound...  \n",
       "\n",
       "[18135 rows x 8 columns]"
      ]
     },
     "execution_count": 3,
     "metadata": {},
     "output_type": "execute_result"
    }
   ],
   "source": [
    "sid = SentimentIntensityAnalyzer()\n",
    "\n",
    "df['scores'] = df['clean_body'].apply(lambda text: sid.polarity_scores(str(text)))\n",
    "df"
   ]
  },
  {
   "cell_type": "code",
   "execution_count": 4,
   "id": "183f45c2",
   "metadata": {
    "execution": {
     "iopub.execute_input": "2022-05-23T06:15:49.200178Z",
     "iopub.status.busy": "2022-05-23T06:15:49.199183Z",
     "iopub.status.idle": "2022-05-23T06:15:49.227624Z",
     "shell.execute_reply": "2022-05-23T06:15:49.228611Z"
    }
   },
   "outputs": [
    {
     "data": {
      "text/html": [
       "<div>\n",
       "<style scoped>\n",
       "    .dataframe tbody tr th:only-of-type {\n",
       "        vertical-align: middle;\n",
       "    }\n",
       "\n",
       "    .dataframe tbody tr th {\n",
       "        vertical-align: top;\n",
       "    }\n",
       "\n",
       "    .dataframe thead th {\n",
       "        text-align: right;\n",
       "    }\n",
       "</style>\n",
       "<table border=\"1\" class=\"dataframe\">\n",
       "  <thead>\n",
       "    <tr style=\"text-align: right;\">\n",
       "      <th></th>\n",
       "      <th>platform</th>\n",
       "      <th>date</th>\n",
       "      <th>body</th>\n",
       "      <th>token_words</th>\n",
       "      <th>lemmatized</th>\n",
       "      <th>clean_body</th>\n",
       "      <th>label</th>\n",
       "      <th>scores</th>\n",
       "      <th>compound</th>\n",
       "      <th>sentiment_type</th>\n",
       "    </tr>\n",
       "  </thead>\n",
       "  <tbody>\n",
       "    <tr>\n",
       "      <th>0</th>\n",
       "      <td>Twitter</td>\n",
       "      <td>30-12-2021 18:38:04</td>\n",
       "      <td>adidas Yeezy Boost 350 V2 “Dazzling Blue” 👟\\n\\...</td>\n",
       "      <td>['adidas', 'yeezy', 'boost', 'dazzling', 'blue...</td>\n",
       "      <td>['adidas', 'yeezy', 'boost', 'dazzling', 'blue...</td>\n",
       "      <td>yeezy boost dazzling blue coming yankeekicks ig</td>\n",
       "      <td>adidas</td>\n",
       "      <td>{'neg': 0.0, 'neu': 0.69, 'pos': 0.31, 'compou...</td>\n",
       "      <td>0.4019</td>\n",
       "      <td>POSITIVE</td>\n",
       "    </tr>\n",
       "    <tr>\n",
       "      <th>1</th>\n",
       "      <td>Twitter</td>\n",
       "      <td>30-12-2021 17:43:37</td>\n",
       "      <td>Am over the worst of Omicron. Alhumdullilah. I...</td>\n",
       "      <td>['worst', 'omicron', 'alhumdullilah', 'cupcake...</td>\n",
       "      <td>['worst', 'omicron', 'alhumdullilah', 'cupcake...</td>\n",
       "      <td>worst omicron alhumdullilah cupcake breakfast ...</td>\n",
       "      <td>adidas</td>\n",
       "      <td>{'neg': 0.232, 'neu': 0.452, 'pos': 0.316, 'co...</td>\n",
       "      <td>0.1280</td>\n",
       "      <td>POSITIVE</td>\n",
       "    </tr>\n",
       "    <tr>\n",
       "      <th>2</th>\n",
       "      <td>Twitter</td>\n",
       "      <td>30-12-2021 06:28:19</td>\n",
       "      <td>🎁 I'm blessing 1 follower with life changing N...</td>\n",
       "      <td>['blessing', 'follower', 'life', 'changing', '...</td>\n",
       "      <td>['blessing', 'follower', 'life', 'changing', '...</td>\n",
       "      <td>blessing follower life changing nfts hour orig...</td>\n",
       "      <td>adidas</td>\n",
       "      <td>{'neg': 0.0, 'neu': 0.775, 'pos': 0.225, 'comp...</td>\n",
       "      <td>0.4939</td>\n",
       "      <td>POSITIVE</td>\n",
       "    </tr>\n",
       "    <tr>\n",
       "      <th>3</th>\n",
       "      <td>Twitter</td>\n",
       "      <td>29-12-2021 22:31:57</td>\n",
       "      <td>South Park and adidas have a new “Professor Ch...</td>\n",
       "      <td>['south', 'park', 'adidas', 'professor', 'chao...</td>\n",
       "      <td>['south', 'park', 'adidas', 'professor', 'chao...</td>\n",
       "      <td>south park  professor chaos nmd releasing</td>\n",
       "      <td>adidas</td>\n",
       "      <td>{'neg': 0.425, 'neu': 0.575, 'pos': 0.0, 'comp...</td>\n",
       "      <td>-0.5719</td>\n",
       "      <td>NEGATIVE</td>\n",
       "    </tr>\n",
       "    <tr>\n",
       "      <th>4</th>\n",
       "      <td>Twitter</td>\n",
       "      <td>29-12-2021 19:29:20</td>\n",
       "      <td>Please patronise me, I sell Adidas shoes for 1...</td>\n",
       "      <td>['patronise', 'sell', 'adidas', 'shoes', 'fake...</td>\n",
       "      <td>['patronise', 'sell', 'adidas', 'shoe', 'fake'...</td>\n",
       "      <td>patronise sell  shoe fake walk fast notice</td>\n",
       "      <td>adidas</td>\n",
       "      <td>{'neg': 0.341, 'neu': 0.659, 'pos': 0.0, 'comp...</td>\n",
       "      <td>-0.4767</td>\n",
       "      <td>NEGATIVE</td>\n",
       "    </tr>\n",
       "    <tr>\n",
       "      <th>...</th>\n",
       "      <td>...</td>\n",
       "      <td>...</td>\n",
       "      <td>...</td>\n",
       "      <td>...</td>\n",
       "      <td>...</td>\n",
       "      <td>...</td>\n",
       "      <td>...</td>\n",
       "      <td>...</td>\n",
       "      <td>...</td>\n",
       "      <td>...</td>\n",
       "    </tr>\n",
       "    <tr>\n",
       "      <th>18130</th>\n",
       "      <td>HardwareZone</td>\n",
       "      <td>20-08-2008 01:52:51</td>\n",
       "      <td>jus came back from hk.\\n\\n\\nAdidas Factory out...</td>\n",
       "      <td>['jus', 'hk', 'adidas', 'factory', 'outlet', '...</td>\n",
       "      <td>['jus', 'hk', 'adidas', 'factory', 'outlet', '...</td>\n",
       "      <td>jus hk  factory outlet location block hong kon...</td>\n",
       "      <td>adidas</td>\n",
       "      <td>{'neg': 0.068, 'neu': 0.8, 'pos': 0.132, 'comp...</td>\n",
       "      <td>0.4019</td>\n",
       "      <td>POSITIVE</td>\n",
       "    </tr>\n",
       "    <tr>\n",
       "      <th>18131</th>\n",
       "      <td>HardwareZone</td>\n",
       "      <td>24-08-2008 15:03:34</td>\n",
       "      <td>Me and hubby like Citygate leh. Polo Ralph Pol...</td>\n",
       "      <td>['hubby', 'citygate', 'leh', 'polo', 'ralph', ...</td>\n",
       "      <td>['hubby', 'citygate', 'leh', 'polo', 'ralph', ...</td>\n",
       "      <td>hubby citygate leh polo ralph polo tee pretty ...</td>\n",
       "      <td>adidas and nike</td>\n",
       "      <td>{'neg': 0.0, 'neu': 0.802, 'pos': 0.198, 'comp...</td>\n",
       "      <td>0.4939</td>\n",
       "      <td>POSITIVE</td>\n",
       "    </tr>\n",
       "    <tr>\n",
       "      <th>18132</th>\n",
       "      <td>HardwareZone</td>\n",
       "      <td>11-10-2008 04:19:53</td>\n",
       "      <td>helpp!\\n\\nOkay, I am from Toronto &amp; I'm going ...</td>\n",
       "      <td>['helpp', 'toronto', 'hong', 'kong', 'december...</td>\n",
       "      <td>['helpp', 'toronto', 'hong', 'kong', 'december...</td>\n",
       "      <td>helpp toronto hong kong december long wanna sh...</td>\n",
       "      <td>nike</td>\n",
       "      <td>{'neg': 0.0, 'neu': 0.846, 'pos': 0.154, 'comp...</td>\n",
       "      <td>0.8126</td>\n",
       "      <td>POSITIVE</td>\n",
       "    </tr>\n",
       "    <tr>\n",
       "      <th>18133</th>\n",
       "      <td>HardwareZone</td>\n",
       "      <td>30-10-2008 17:28:01</td>\n",
       "      <td>hihi... sorry all just wanna ask.. so the post...</td>\n",
       "      <td>['hihi', 'wanna', 'post', 'guide', 'monkey', '...</td>\n",
       "      <td>['hihi', 'wanna', 'post', 'guide', 'monkey', '...</td>\n",
       "      <td>hihi wanna post guide monkey post  addidas shi...</td>\n",
       "      <td>nike</td>\n",
       "      <td>{'neg': 0.0, 'neu': 1.0, 'pos': 0.0, 'compound...</td>\n",
       "      <td>0.0000</td>\n",
       "      <td>NEUTRAL</td>\n",
       "    </tr>\n",
       "    <tr>\n",
       "      <th>18134</th>\n",
       "      <td>HardwareZone</td>\n",
       "      <td>10-11-2008 13:27:38</td>\n",
       "      <td>abutan said:\\nHi,\\n\\nHow do you get to CityGat...</td>\n",
       "      <td>['abutan', 'citygate', 'mtr', 'station', 'alig...</td>\n",
       "      <td>['abutan', 'citygate', 'mtr', 'station', 'alig...</td>\n",
       "      <td>abutan citygate mtr station alight happened  f...</td>\n",
       "      <td>nike</td>\n",
       "      <td>{'neg': 0.0, 'neu': 1.0, 'pos': 0.0, 'compound...</td>\n",
       "      <td>0.0000</td>\n",
       "      <td>NEUTRAL</td>\n",
       "    </tr>\n",
       "  </tbody>\n",
       "</table>\n",
       "<p>18135 rows × 10 columns</p>\n",
       "</div>"
      ],
      "text/plain": [
       "           platform                 date  \\\n",
       "0           Twitter  30-12-2021 18:38:04   \n",
       "1           Twitter  30-12-2021 17:43:37   \n",
       "2           Twitter  30-12-2021 06:28:19   \n",
       "3           Twitter  29-12-2021 22:31:57   \n",
       "4           Twitter  29-12-2021 19:29:20   \n",
       "...             ...                  ...   \n",
       "18130  HardwareZone  20-08-2008 01:52:51   \n",
       "18131  HardwareZone  24-08-2008 15:03:34   \n",
       "18132  HardwareZone  11-10-2008 04:19:53   \n",
       "18133  HardwareZone  30-10-2008 17:28:01   \n",
       "18134  HardwareZone  10-11-2008 13:27:38   \n",
       "\n",
       "                                                    body  \\\n",
       "0      adidas Yeezy Boost 350 V2 “Dazzling Blue” 👟\\n\\...   \n",
       "1      Am over the worst of Omicron. Alhumdullilah. I...   \n",
       "2      🎁 I'm blessing 1 follower with life changing N...   \n",
       "3      South Park and adidas have a new “Professor Ch...   \n",
       "4      Please patronise me, I sell Adidas shoes for 1...   \n",
       "...                                                  ...   \n",
       "18130  jus came back from hk.\\n\\n\\nAdidas Factory out...   \n",
       "18131  Me and hubby like Citygate leh. Polo Ralph Pol...   \n",
       "18132  helpp!\\n\\nOkay, I am from Toronto & I'm going ...   \n",
       "18133  hihi... sorry all just wanna ask.. so the post...   \n",
       "18134  abutan said:\\nHi,\\n\\nHow do you get to CityGat...   \n",
       "\n",
       "                                             token_words  \\\n",
       "0      ['adidas', 'yeezy', 'boost', 'dazzling', 'blue...   \n",
       "1      ['worst', 'omicron', 'alhumdullilah', 'cupcake...   \n",
       "2      ['blessing', 'follower', 'life', 'changing', '...   \n",
       "3      ['south', 'park', 'adidas', 'professor', 'chao...   \n",
       "4      ['patronise', 'sell', 'adidas', 'shoes', 'fake...   \n",
       "...                                                  ...   \n",
       "18130  ['jus', 'hk', 'adidas', 'factory', 'outlet', '...   \n",
       "18131  ['hubby', 'citygate', 'leh', 'polo', 'ralph', ...   \n",
       "18132  ['helpp', 'toronto', 'hong', 'kong', 'december...   \n",
       "18133  ['hihi', 'wanna', 'post', 'guide', 'monkey', '...   \n",
       "18134  ['abutan', 'citygate', 'mtr', 'station', 'alig...   \n",
       "\n",
       "                                              lemmatized  \\\n",
       "0      ['adidas', 'yeezy', 'boost', 'dazzling', 'blue...   \n",
       "1      ['worst', 'omicron', 'alhumdullilah', 'cupcake...   \n",
       "2      ['blessing', 'follower', 'life', 'changing', '...   \n",
       "3      ['south', 'park', 'adidas', 'professor', 'chao...   \n",
       "4      ['patronise', 'sell', 'adidas', 'shoe', 'fake'...   \n",
       "...                                                  ...   \n",
       "18130  ['jus', 'hk', 'adidas', 'factory', 'outlet', '...   \n",
       "18131  ['hubby', 'citygate', 'leh', 'polo', 'ralph', ...   \n",
       "18132  ['helpp', 'toronto', 'hong', 'kong', 'december...   \n",
       "18133  ['hihi', 'wanna', 'post', 'guide', 'monkey', '...   \n",
       "18134  ['abutan', 'citygate', 'mtr', 'station', 'alig...   \n",
       "\n",
       "                                              clean_body            label  \\\n",
       "0        yeezy boost dazzling blue coming yankeekicks ig           adidas   \n",
       "1      worst omicron alhumdullilah cupcake breakfast ...           adidas   \n",
       "2      blessing follower life changing nfts hour orig...           adidas   \n",
       "3              south park  professor chaos nmd releasing           adidas   \n",
       "4             patronise sell  shoe fake walk fast notice           adidas   \n",
       "...                                                  ...              ...   \n",
       "18130  jus hk  factory outlet location block hong kon...           adidas   \n",
       "18131  hubby citygate leh polo ralph polo tee pretty ...  adidas and nike   \n",
       "18132  helpp toronto hong kong december long wanna sh...             nike   \n",
       "18133  hihi wanna post guide monkey post  addidas shi...             nike   \n",
       "18134  abutan citygate mtr station alight happened  f...             nike   \n",
       "\n",
       "                                                  scores  compound  \\\n",
       "0      {'neg': 0.0, 'neu': 0.69, 'pos': 0.31, 'compou...    0.4019   \n",
       "1      {'neg': 0.232, 'neu': 0.452, 'pos': 0.316, 'co...    0.1280   \n",
       "2      {'neg': 0.0, 'neu': 0.775, 'pos': 0.225, 'comp...    0.4939   \n",
       "3      {'neg': 0.425, 'neu': 0.575, 'pos': 0.0, 'comp...   -0.5719   \n",
       "4      {'neg': 0.341, 'neu': 0.659, 'pos': 0.0, 'comp...   -0.4767   \n",
       "...                                                  ...       ...   \n",
       "18130  {'neg': 0.068, 'neu': 0.8, 'pos': 0.132, 'comp...    0.4019   \n",
       "18131  {'neg': 0.0, 'neu': 0.802, 'pos': 0.198, 'comp...    0.4939   \n",
       "18132  {'neg': 0.0, 'neu': 0.846, 'pos': 0.154, 'comp...    0.8126   \n",
       "18133  {'neg': 0.0, 'neu': 1.0, 'pos': 0.0, 'compound...    0.0000   \n",
       "18134  {'neg': 0.0, 'neu': 1.0, 'pos': 0.0, 'compound...    0.0000   \n",
       "\n",
       "      sentiment_type  \n",
       "0           POSITIVE  \n",
       "1           POSITIVE  \n",
       "2           POSITIVE  \n",
       "3           NEGATIVE  \n",
       "4           NEGATIVE  \n",
       "...              ...  \n",
       "18130       POSITIVE  \n",
       "18131       POSITIVE  \n",
       "18132       POSITIVE  \n",
       "18133        NEUTRAL  \n",
       "18134        NEUTRAL  \n",
       "\n",
       "[18135 rows x 10 columns]"
      ]
     },
     "execution_count": 4,
     "metadata": {},
     "output_type": "execute_result"
    }
   ],
   "source": [
    "df['compound'] = df['scores'].apply(lambda score_dict: score_dict['compound'])\n",
    "df['sentiment_type'] = ''\n",
    "df.loc[df.compound > 0, 'sentiment_type'] = 'POSITIVE'\n",
    "df.loc[df.compound == 0, 'sentiment_type'] = 'NEUTRAL'\n",
    "df.loc[df.compound < 0, 'sentiment_type'] = 'NEGATIVE'\n",
    "df"
   ]
  },
  {
   "cell_type": "code",
   "execution_count": 5,
   "id": "5f8ea7fe",
   "metadata": {
    "execution": {
     "iopub.execute_input": "2022-05-23T06:15:49.231569Z",
     "iopub.status.busy": "2022-05-23T06:15:49.231569Z",
     "iopub.status.idle": "2022-05-23T06:15:49.260121Z",
     "shell.execute_reply": "2022-05-23T06:15:49.260121Z"
    }
   },
   "outputs": [
    {
     "data": {
      "text/html": [
       "<div>\n",
       "<style scoped>\n",
       "    .dataframe tbody tr th:only-of-type {\n",
       "        vertical-align: middle;\n",
       "    }\n",
       "\n",
       "    .dataframe tbody tr th {\n",
       "        vertical-align: top;\n",
       "    }\n",
       "\n",
       "    .dataframe thead th {\n",
       "        text-align: right;\n",
       "    }\n",
       "</style>\n",
       "<table border=\"1\" class=\"dataframe\">\n",
       "  <thead>\n",
       "    <tr style=\"text-align: right;\">\n",
       "      <th></th>\n",
       "      <th>platform</th>\n",
       "      <th>date</th>\n",
       "      <th>body</th>\n",
       "      <th>token_words</th>\n",
       "      <th>lemmatized</th>\n",
       "      <th>clean_body</th>\n",
       "      <th>label</th>\n",
       "      <th>scores</th>\n",
       "      <th>compound</th>\n",
       "      <th>sentiment_type</th>\n",
       "    </tr>\n",
       "  </thead>\n",
       "  <tbody>\n",
       "    <tr>\n",
       "      <th>157</th>\n",
       "      <td>Twitter</td>\n",
       "      <td>13-12-2021 01:45:04</td>\n",
       "      <td>adidas Yeezy Boost 350 V2 MX Rock 🪨. December ...</td>\n",
       "      <td>['adidas', 'yeezy', 'boost', 'mx', 'rock', 'de...</td>\n",
       "      <td>['adidas', 'yeezy', 'boost', 'mx', 'rock', 'de...</td>\n",
       "      <td>yeezy boost mx rock december jjoseph</td>\n",
       "      <td>adidas</td>\n",
       "      <td>{'neg': 0.0, 'neu': 0.649, 'pos': 0.351, 'comp...</td>\n",
       "      <td>0.4019</td>\n",
       "      <td>POSITIVE</td>\n",
       "    </tr>\n",
       "    <tr>\n",
       "      <th>8891</th>\n",
       "      <td>Reddit</td>\n",
       "      <td>26-12-2021 02:44:08</td>\n",
       "      <td>I was hoping to get these by Christmas, won a ...</td>\n",
       "      <td>['hoping', 'christmas', 'won', 'raffle', 'nove...</td>\n",
       "      <td>['hoping', 'christmas', 'won', 'raffle', 'nove...</td>\n",
       "      <td>hoping christmas won raffle november offical  ...</td>\n",
       "      <td>adidas</td>\n",
       "      <td>{'neg': 0.186, 'neu': 0.456, 'pos': 0.357, 'co...</td>\n",
       "      <td>0.6705</td>\n",
       "      <td>POSITIVE</td>\n",
       "    </tr>\n",
       "    <tr>\n",
       "      <th>4575</th>\n",
       "      <td>Twitter</td>\n",
       "      <td>01-11-2021 14:00:02</td>\n",
       "      <td>💎 NBA Diamond Album Drops TODAY 💎 \\n\\nUnveilin...</td>\n",
       "      <td>['nba', 'diamond', 'album', 'drops', 'today', ...</td>\n",
       "      <td>['nba', 'diamond', 'album', 'drop', 'today', '...</td>\n",
       "      <td>nba diamond album drop today unveiling  nba ci...</td>\n",
       "      <td>nike</td>\n",
       "      <td>{'neg': 0.156, 'neu': 0.667, 'pos': 0.178, 'co...</td>\n",
       "      <td>0.0772</td>\n",
       "      <td>POSITIVE</td>\n",
       "    </tr>\n",
       "    <tr>\n",
       "      <th>12886</th>\n",
       "      <td>Reddit</td>\n",
       "      <td>28-12-2021 05:17:16</td>\n",
       "      <td>Cuz when you buy directly from a Nike store or...</td>\n",
       "      <td>['cuz', 'buy', 'nike', 'store', 'online', 'day...</td>\n",
       "      <td>['cuz', 'buy', 'nike', 'store', 'online', 'day...</td>\n",
       "      <td>cuz buy  store online day free return guaranty</td>\n",
       "      <td>nike</td>\n",
       "      <td>{'neg': 0.0, 'neu': 0.68, 'pos': 0.32, 'compou...</td>\n",
       "      <td>0.5106</td>\n",
       "      <td>POSITIVE</td>\n",
       "    </tr>\n",
       "    <tr>\n",
       "      <th>7891</th>\n",
       "      <td>Reddit</td>\n",
       "      <td>29-12-2021 02:13:55</td>\n",
       "      <td>GME is fundamentally better company on every m...</td>\n",
       "      <td>['gme', 'fundamentally', 'company', 'metric', ...</td>\n",
       "      <td>['gme', 'fundamentally', 'company', 'metric', ...</td>\n",
       "      <td>gme fundamentally company metric talked sub ex...</td>\n",
       "      <td>adidas</td>\n",
       "      <td>{'neg': 0.103, 'neu': 0.732, 'pos': 0.165, 'co...</td>\n",
       "      <td>0.4666</td>\n",
       "      <td>POSITIVE</td>\n",
       "    </tr>\n",
       "  </tbody>\n",
       "</table>\n",
       "</div>"
      ],
      "text/plain": [
       "      platform                 date  \\\n",
       "157    Twitter  13-12-2021 01:45:04   \n",
       "8891    Reddit  26-12-2021 02:44:08   \n",
       "4575   Twitter  01-11-2021 14:00:02   \n",
       "12886   Reddit  28-12-2021 05:17:16   \n",
       "7891    Reddit  29-12-2021 02:13:55   \n",
       "\n",
       "                                                    body  \\\n",
       "157    adidas Yeezy Boost 350 V2 MX Rock 🪨. December ...   \n",
       "8891   I was hoping to get these by Christmas, won a ...   \n",
       "4575   💎 NBA Diamond Album Drops TODAY 💎 \\n\\nUnveilin...   \n",
       "12886  Cuz when you buy directly from a Nike store or...   \n",
       "7891   GME is fundamentally better company on every m...   \n",
       "\n",
       "                                             token_words  \\\n",
       "157    ['adidas', 'yeezy', 'boost', 'mx', 'rock', 'de...   \n",
       "8891   ['hoping', 'christmas', 'won', 'raffle', 'nove...   \n",
       "4575   ['nba', 'diamond', 'album', 'drops', 'today', ...   \n",
       "12886  ['cuz', 'buy', 'nike', 'store', 'online', 'day...   \n",
       "7891   ['gme', 'fundamentally', 'company', 'metric', ...   \n",
       "\n",
       "                                              lemmatized  \\\n",
       "157    ['adidas', 'yeezy', 'boost', 'mx', 'rock', 'de...   \n",
       "8891   ['hoping', 'christmas', 'won', 'raffle', 'nove...   \n",
       "4575   ['nba', 'diamond', 'album', 'drop', 'today', '...   \n",
       "12886  ['cuz', 'buy', 'nike', 'store', 'online', 'day...   \n",
       "7891   ['gme', 'fundamentally', 'company', 'metric', ...   \n",
       "\n",
       "                                              clean_body   label  \\\n",
       "157                 yeezy boost mx rock december jjoseph  adidas   \n",
       "8891   hoping christmas won raffle november offical  ...  adidas   \n",
       "4575   nba diamond album drop today unveiling  nba ci...    nike   \n",
       "12886     cuz buy  store online day free return guaranty    nike   \n",
       "7891   gme fundamentally company metric talked sub ex...  adidas   \n",
       "\n",
       "                                                  scores  compound  \\\n",
       "157    {'neg': 0.0, 'neu': 0.649, 'pos': 0.351, 'comp...    0.4019   \n",
       "8891   {'neg': 0.186, 'neu': 0.456, 'pos': 0.357, 'co...    0.6705   \n",
       "4575   {'neg': 0.156, 'neu': 0.667, 'pos': 0.178, 'co...    0.0772   \n",
       "12886  {'neg': 0.0, 'neu': 0.68, 'pos': 0.32, 'compou...    0.5106   \n",
       "7891   {'neg': 0.103, 'neu': 0.732, 'pos': 0.165, 'co...    0.4666   \n",
       "\n",
       "      sentiment_type  \n",
       "157         POSITIVE  \n",
       "8891        POSITIVE  \n",
       "4575        POSITIVE  \n",
       "12886       POSITIVE  \n",
       "7891        POSITIVE  "
      ]
     },
     "execution_count": 5,
     "metadata": {},
     "output_type": "execute_result"
    }
   ],
   "source": [
    "df[df['sentiment_type'] == 'POSITIVE'].sample(n = 5)"
   ]
  },
  {
   "cell_type": "code",
   "execution_count": 6,
   "id": "dbc095cb",
   "metadata": {
    "execution": {
     "iopub.execute_input": "2022-05-23T06:15:49.263113Z",
     "iopub.status.busy": "2022-05-23T06:15:49.262116Z",
     "iopub.status.idle": "2022-05-23T06:15:49.275004Z",
     "shell.execute_reply": "2022-05-23T06:15:49.276028Z"
    }
   },
   "outputs": [
    {
     "data": {
      "text/html": [
       "<div>\n",
       "<style scoped>\n",
       "    .dataframe tbody tr th:only-of-type {\n",
       "        vertical-align: middle;\n",
       "    }\n",
       "\n",
       "    .dataframe tbody tr th {\n",
       "        vertical-align: top;\n",
       "    }\n",
       "\n",
       "    .dataframe thead th {\n",
       "        text-align: right;\n",
       "    }\n",
       "</style>\n",
       "<table border=\"1\" class=\"dataframe\">\n",
       "  <thead>\n",
       "    <tr style=\"text-align: right;\">\n",
       "      <th></th>\n",
       "      <th>platform</th>\n",
       "      <th>date</th>\n",
       "      <th>body</th>\n",
       "      <th>token_words</th>\n",
       "      <th>lemmatized</th>\n",
       "      <th>clean_body</th>\n",
       "      <th>label</th>\n",
       "      <th>scores</th>\n",
       "      <th>compound</th>\n",
       "      <th>sentiment_type</th>\n",
       "    </tr>\n",
       "  </thead>\n",
       "  <tbody>\n",
       "    <tr>\n",
       "      <th>17134</th>\n",
       "      <td>Facebook</td>\n",
       "      <td>27-05-2015 18:46:10</td>\n",
       "      <td>Ugh Humans! Amusing video advertisement only</td>\n",
       "      <td>['ugh', 'humans', 'amusing', 'video', 'adverti...</td>\n",
       "      <td>['ugh', 'human', 'amusing', 'video', 'advertis...</td>\n",
       "      <td>ugh human amusing video advertisement</td>\n",
       "      <td>nike</td>\n",
       "      <td>{'neg': 0.333, 'neu': 0.357, 'pos': 0.31, 'com...</td>\n",
       "      <td>-0.0516</td>\n",
       "      <td>NEGATIVE</td>\n",
       "    </tr>\n",
       "    <tr>\n",
       "      <th>11086</th>\n",
       "      <td>Reddit</td>\n",
       "      <td>30-12-2021 14:48:29</td>\n",
       "      <td>all i kno Nike makes an ass look so damn juicy...</td>\n",
       "      <td>['kno', 'nike', 'ass', 'damn', 'juicy']</td>\n",
       "      <td>['kno', 'nike', 'as', 'damn', 'juicy']</td>\n",
       "      <td>kno  as damn juicy</td>\n",
       "      <td>nike</td>\n",
       "      <td>{'neg': 0.474, 'neu': 0.526, 'pos': 0.0, 'comp...</td>\n",
       "      <td>-0.4019</td>\n",
       "      <td>NEGATIVE</td>\n",
       "    </tr>\n",
       "    <tr>\n",
       "      <th>9682</th>\n",
       "      <td>Reddit</td>\n",
       "      <td>23-12-2021 10:50:01</td>\n",
       "      <td>Dicks has a couple colors and sizes for $40ish...</td>\n",
       "      <td>['dicks', 'couple', 'colors', 'sizes', 'ish', ...</td>\n",
       "      <td>['dick', 'couple', 'color', 'size', 'ish', 'la...</td>\n",
       "      <td>dick couple color size ish lazy figure shippin...</td>\n",
       "      <td>adidas</td>\n",
       "      <td>{'neg': 0.339, 'neu': 0.468, 'pos': 0.193, 'co...</td>\n",
       "      <td>-0.3612</td>\n",
       "      <td>NEGATIVE</td>\n",
       "    </tr>\n",
       "    <tr>\n",
       "      <th>619</th>\n",
       "      <td>Twitter</td>\n",
       "      <td>03-09-2021 06:00:43</td>\n",
       "      <td>🗞 #mufc's future sponsorship deals are set to ...</td>\n",
       "      <td>['mufcs', 'future', 'sponsorship', 'deals', 's...</td>\n",
       "      <td>['mufcs', 'future', 'sponsorship', 'deal', 'se...</td>\n",
       "      <td>mufcs future sponsorship deal set rise pursuit...</td>\n",
       "      <td>adidas</td>\n",
       "      <td>{'neg': 0.245, 'neu': 0.755, 'pos': 0.0, 'comp...</td>\n",
       "      <td>-0.7579</td>\n",
       "      <td>NEGATIVE</td>\n",
       "    </tr>\n",
       "    <tr>\n",
       "      <th>12165</th>\n",
       "      <td>Reddit</td>\n",
       "      <td>29-12-2021 03:43:48</td>\n",
       "      <td>&amp;gt;but don't take away their Apple products, ...</td>\n",
       "      <td>['gtbut', 'apple', 'products', 'nike', 'shoes'...</td>\n",
       "      <td>['gtbut', 'apple', 'product', 'nike', 'shoe', ...</td>\n",
       "      <td>gtbut apple product  shoe social medium intern...</td>\n",
       "      <td>nike</td>\n",
       "      <td>{'neg': 0.206, 'neu': 0.609, 'pos': 0.185, 'co...</td>\n",
       "      <td>-0.2500</td>\n",
       "      <td>NEGATIVE</td>\n",
       "    </tr>\n",
       "  </tbody>\n",
       "</table>\n",
       "</div>"
      ],
      "text/plain": [
       "       platform                 date  \\\n",
       "17134  Facebook  27-05-2015 18:46:10   \n",
       "11086    Reddit  30-12-2021 14:48:29   \n",
       "9682     Reddit  23-12-2021 10:50:01   \n",
       "619     Twitter  03-09-2021 06:00:43   \n",
       "12165    Reddit  29-12-2021 03:43:48   \n",
       "\n",
       "                                                    body  \\\n",
       "17134       Ugh Humans! Amusing video advertisement only   \n",
       "11086  all i kno Nike makes an ass look so damn juicy...   \n",
       "9682   Dicks has a couple colors and sizes for $40ish...   \n",
       "619    🗞 #mufc's future sponsorship deals are set to ...   \n",
       "12165  &gt;but don't take away their Apple products, ...   \n",
       "\n",
       "                                             token_words  \\\n",
       "17134  ['ugh', 'humans', 'amusing', 'video', 'adverti...   \n",
       "11086            ['kno', 'nike', 'ass', 'damn', 'juicy']   \n",
       "9682   ['dicks', 'couple', 'colors', 'sizes', 'ish', ...   \n",
       "619    ['mufcs', 'future', 'sponsorship', 'deals', 's...   \n",
       "12165  ['gtbut', 'apple', 'products', 'nike', 'shoes'...   \n",
       "\n",
       "                                              lemmatized  \\\n",
       "17134  ['ugh', 'human', 'amusing', 'video', 'advertis...   \n",
       "11086             ['kno', 'nike', 'as', 'damn', 'juicy']   \n",
       "9682   ['dick', 'couple', 'color', 'size', 'ish', 'la...   \n",
       "619    ['mufcs', 'future', 'sponsorship', 'deal', 'se...   \n",
       "12165  ['gtbut', 'apple', 'product', 'nike', 'shoe', ...   \n",
       "\n",
       "                                              clean_body   label  \\\n",
       "17134              ugh human amusing video advertisement    nike   \n",
       "11086                                 kno  as damn juicy    nike   \n",
       "9682   dick couple color size ish lazy figure shippin...  adidas   \n",
       "619    mufcs future sponsorship deal set rise pursuit...  adidas   \n",
       "12165  gtbut apple product  shoe social medium intern...    nike   \n",
       "\n",
       "                                                  scores  compound  \\\n",
       "17134  {'neg': 0.333, 'neu': 0.357, 'pos': 0.31, 'com...   -0.0516   \n",
       "11086  {'neg': 0.474, 'neu': 0.526, 'pos': 0.0, 'comp...   -0.4019   \n",
       "9682   {'neg': 0.339, 'neu': 0.468, 'pos': 0.193, 'co...   -0.3612   \n",
       "619    {'neg': 0.245, 'neu': 0.755, 'pos': 0.0, 'comp...   -0.7579   \n",
       "12165  {'neg': 0.206, 'neu': 0.609, 'pos': 0.185, 'co...   -0.2500   \n",
       "\n",
       "      sentiment_type  \n",
       "17134       NEGATIVE  \n",
       "11086       NEGATIVE  \n",
       "9682        NEGATIVE  \n",
       "619         NEGATIVE  \n",
       "12165       NEGATIVE  "
      ]
     },
     "execution_count": 6,
     "metadata": {},
     "output_type": "execute_result"
    }
   ],
   "source": [
    "df[df['sentiment_type'] == 'NEGATIVE'].sample(n = 5)"
   ]
  },
  {
   "cell_type": "code",
   "execution_count": 7,
   "id": "e8fb22d3",
   "metadata": {
    "execution": {
     "iopub.execute_input": "2022-05-23T06:15:49.288969Z",
     "iopub.status.busy": "2022-05-23T06:15:49.277998Z",
     "iopub.status.idle": "2022-05-23T06:15:49.290963Z",
     "shell.execute_reply": "2022-05-23T06:15:49.290963Z"
    }
   },
   "outputs": [
    {
     "data": {
      "text/html": [
       "<div>\n",
       "<style scoped>\n",
       "    .dataframe tbody tr th:only-of-type {\n",
       "        vertical-align: middle;\n",
       "    }\n",
       "\n",
       "    .dataframe tbody tr th {\n",
       "        vertical-align: top;\n",
       "    }\n",
       "\n",
       "    .dataframe thead th {\n",
       "        text-align: right;\n",
       "    }\n",
       "</style>\n",
       "<table border=\"1\" class=\"dataframe\">\n",
       "  <thead>\n",
       "    <tr style=\"text-align: right;\">\n",
       "      <th></th>\n",
       "      <th>platform</th>\n",
       "      <th>date</th>\n",
       "      <th>body</th>\n",
       "      <th>token_words</th>\n",
       "      <th>lemmatized</th>\n",
       "      <th>clean_body</th>\n",
       "      <th>label</th>\n",
       "      <th>scores</th>\n",
       "      <th>compound</th>\n",
       "      <th>sentiment_type</th>\n",
       "    </tr>\n",
       "  </thead>\n",
       "  <tbody>\n",
       "    <tr>\n",
       "      <th>5651</th>\n",
       "      <td>Twitter</td>\n",
       "      <td>10-08-2021 03:15:32</td>\n",
       "      <td>Nike Air Max 97 https://t.co/Bt8hivnzFX</td>\n",
       "      <td>['nike', 'air', 'max']</td>\n",
       "      <td>['nike', 'air', 'max']</td>\n",
       "      <td>air max</td>\n",
       "      <td>nike</td>\n",
       "      <td>{'neg': 0.0, 'neu': 1.0, 'pos': 0.0, 'compound...</td>\n",
       "      <td>0.0</td>\n",
       "      <td>NEUTRAL</td>\n",
       "    </tr>\n",
       "    <tr>\n",
       "      <th>13341</th>\n",
       "      <td>Reddit</td>\n",
       "      <td>27-12-2021 18:05:43</td>\n",
       "      <td>Bro it’s the same questions about nike non sto...</td>\n",
       "      <td>['bro', 'questions', 'nike', 'thread']</td>\n",
       "      <td>['bro', 'question', 'nike', 'thread']</td>\n",
       "      <td>bro question  thread</td>\n",
       "      <td>nike</td>\n",
       "      <td>{'neg': 0.0, 'neu': 1.0, 'pos': 0.0, 'compound...</td>\n",
       "      <td>0.0</td>\n",
       "      <td>NEUTRAL</td>\n",
       "    </tr>\n",
       "    <tr>\n",
       "      <th>6220</th>\n",
       "      <td>Twitter</td>\n",
       "      <td>03-07-2021 07:32:54</td>\n",
       "      <td>👤 oppa whose clothes are you wearing today\\n🦈 ...</td>\n",
       "      <td>['oppa', 'clothes', 'wearing', 'today', 'nike'...</td>\n",
       "      <td>['oppa', 'clothes', 'wearing', 'today', 'nike'...</td>\n",
       "      <td>oppa clothes wearing today  shoe earring kihyu...</td>\n",
       "      <td>nike</td>\n",
       "      <td>{'neg': 0.0, 'neu': 1.0, 'pos': 0.0, 'compound...</td>\n",
       "      <td>0.0</td>\n",
       "      <td>NEUTRAL</td>\n",
       "    </tr>\n",
       "    <tr>\n",
       "      <th>6324</th>\n",
       "      <td>Twitter</td>\n",
       "      <td>27-06-2021 13:25:00</td>\n",
       "      <td>Nike dropped her for being pregnant. She came ...</td>\n",
       "      <td>['nike', 'dropped', 'pregnant', 'csection', 's...</td>\n",
       "      <td>['nike', 'dropped', 'pregnant', 'csection', 's...</td>\n",
       "      <td>dropped pregnant csection scar flex headed oly...</td>\n",
       "      <td>nike</td>\n",
       "      <td>{'neg': 0.0, 'neu': 1.0, 'pos': 0.0, 'compound...</td>\n",
       "      <td>0.0</td>\n",
       "      <td>NEUTRAL</td>\n",
       "    </tr>\n",
       "    <tr>\n",
       "      <th>6092</th>\n",
       "      <td>Twitter</td>\n",
       "      <td>10-07-2021 21:05:02</td>\n",
       "      <td>Upcoming Nike Dunk Low \"Team Red\" Official Pho...</td>\n",
       "      <td>['upcoming', 'nike', 'dunk', 'team', 'red', 'o...</td>\n",
       "      <td>['upcoming', 'nike', 'dunk', 'team', 'red', 'o...</td>\n",
       "      <td>upcoming  dunk team red official photo</td>\n",
       "      <td>nike</td>\n",
       "      <td>{'neg': 0.0, 'neu': 1.0, 'pos': 0.0, 'compound...</td>\n",
       "      <td>0.0</td>\n",
       "      <td>NEUTRAL</td>\n",
       "    </tr>\n",
       "  </tbody>\n",
       "</table>\n",
       "</div>"
      ],
      "text/plain": [
       "      platform                 date  \\\n",
       "5651   Twitter  10-08-2021 03:15:32   \n",
       "13341   Reddit  27-12-2021 18:05:43   \n",
       "6220   Twitter  03-07-2021 07:32:54   \n",
       "6324   Twitter  27-06-2021 13:25:00   \n",
       "6092   Twitter  10-07-2021 21:05:02   \n",
       "\n",
       "                                                    body  \\\n",
       "5651             Nike Air Max 97 https://t.co/Bt8hivnzFX   \n",
       "13341  Bro it’s the same questions about nike non sto...   \n",
       "6220   👤 oppa whose clothes are you wearing today\\n🦈 ...   \n",
       "6324   Nike dropped her for being pregnant. She came ...   \n",
       "6092   Upcoming Nike Dunk Low \"Team Red\" Official Pho...   \n",
       "\n",
       "                                             token_words  \\\n",
       "5651                              ['nike', 'air', 'max']   \n",
       "13341             ['bro', 'questions', 'nike', 'thread']   \n",
       "6220   ['oppa', 'clothes', 'wearing', 'today', 'nike'...   \n",
       "6324   ['nike', 'dropped', 'pregnant', 'csection', 's...   \n",
       "6092   ['upcoming', 'nike', 'dunk', 'team', 'red', 'o...   \n",
       "\n",
       "                                              lemmatized  \\\n",
       "5651                              ['nike', 'air', 'max']   \n",
       "13341              ['bro', 'question', 'nike', 'thread']   \n",
       "6220   ['oppa', 'clothes', 'wearing', 'today', 'nike'...   \n",
       "6324   ['nike', 'dropped', 'pregnant', 'csection', 's...   \n",
       "6092   ['upcoming', 'nike', 'dunk', 'team', 'red', 'o...   \n",
       "\n",
       "                                              clean_body label  \\\n",
       "5651                                             air max  nike   \n",
       "13341                               bro question  thread  nike   \n",
       "6220   oppa clothes wearing today  shoe earring kihyu...  nike   \n",
       "6324   dropped pregnant csection scar flex headed oly...  nike   \n",
       "6092              upcoming  dunk team red official photo  nike   \n",
       "\n",
       "                                                  scores  compound  \\\n",
       "5651   {'neg': 0.0, 'neu': 1.0, 'pos': 0.0, 'compound...       0.0   \n",
       "13341  {'neg': 0.0, 'neu': 1.0, 'pos': 0.0, 'compound...       0.0   \n",
       "6220   {'neg': 0.0, 'neu': 1.0, 'pos': 0.0, 'compound...       0.0   \n",
       "6324   {'neg': 0.0, 'neu': 1.0, 'pos': 0.0, 'compound...       0.0   \n",
       "6092   {'neg': 0.0, 'neu': 1.0, 'pos': 0.0, 'compound...       0.0   \n",
       "\n",
       "      sentiment_type  \n",
       "5651         NEUTRAL  \n",
       "13341        NEUTRAL  \n",
       "6220         NEUTRAL  \n",
       "6324         NEUTRAL  \n",
       "6092         NEUTRAL  "
      ]
     },
     "execution_count": 7,
     "metadata": {},
     "output_type": "execute_result"
    }
   ],
   "source": [
    "df[df['sentiment_type'] == 'NEUTRAL'].sample(n = 5)"
   ]
  },
  {
   "cell_type": "code",
   "execution_count": 8,
   "id": "e5d03ac8",
   "metadata": {
    "execution": {
     "iopub.execute_input": "2022-05-23T06:15:49.293955Z",
     "iopub.status.busy": "2022-05-23T06:15:49.293955Z",
     "iopub.status.idle": "2022-05-23T06:15:49.307433Z",
     "shell.execute_reply": "2022-05-23T06:15:49.306405Z"
    }
   },
   "outputs": [
    {
     "data": {
      "text/plain": [
       "['nike', 'adidas']"
      ]
     },
     "execution_count": 8,
     "metadata": {},
     "output_type": "execute_result"
    }
   ],
   "source": [
    "keywords = df['label'].value_counts()[:2].index.tolist()\n",
    "keywords"
   ]
  },
  {
   "cell_type": "code",
   "execution_count": 9,
   "id": "eaf3f801",
   "metadata": {
    "execution": {
     "iopub.execute_input": "2022-05-23T06:15:49.310394Z",
     "iopub.status.busy": "2022-05-23T06:15:49.310394Z",
     "iopub.status.idle": "2022-05-23T06:15:49.322782Z",
     "shell.execute_reply": "2022-05-23T06:15:49.322782Z"
    }
   },
   "outputs": [
    {
     "name": "stdout",
     "output_type": "stream",
     "text": [
      "Overall Sentiment (nike OR adidas)\n",
      "POSTIVE: 6897\n",
      "NEGATIVE: 3549\n",
      "NEUTRAL: 7689\n"
     ]
    }
   ],
   "source": [
    "s = f'Overall Sentiment ({keywords[0]} OR {keywords[1]})'\n",
    "print(s)\n",
    "print('POSTIVE: ' + str((df['sentiment_type'] =='POSITIVE').sum()))\n",
    "print('NEGATIVE: ' + str((df['sentiment_type'] =='NEGATIVE').sum()))\n",
    "print('NEUTRAL: ' + str((df['sentiment_type'] =='NEUTRAL').sum()))"
   ]
  },
  {
   "cell_type": "code",
   "execution_count": 10,
   "id": "a0432959",
   "metadata": {
    "execution": {
     "iopub.execute_input": "2022-05-23T06:15:49.325774Z",
     "iopub.status.busy": "2022-05-23T06:15:49.325774Z",
     "iopub.status.idle": "2022-05-23T06:15:50.027529Z",
     "shell.execute_reply": "2022-05-23T06:15:50.027529Z"
    }
   },
   "outputs": [
    {
     "data": {
      "text/plain": [
       "<AxesSubplot:title={'center':'Overall Sentiment (nike OR adidas)'}, ylabel='None'>"
      ]
     },
     "execution_count": 10,
     "metadata": {},
     "output_type": "execute_result"
    },
    {
     "data": {
      "image/png": "[encoded data removed]",
      "text/plain": [
       "<Figure size 432x288 with 1 Axes>"
      ]
     },
     "metadata": {},
     "output_type": "display_data"
    }
   ],
   "source": [
    "df.groupby('sentiment_type').size().plot(kind='pie',  autopct='%1.2f%%', title=s)"
   ]
  },
  {
   "cell_type": "code",
   "execution_count": 11,
   "id": "957a8e28",
   "metadata": {
    "execution": {
     "iopub.execute_input": "2022-05-23T06:15:50.031486Z",
     "iopub.status.busy": "2022-05-23T06:15:50.031486Z",
     "iopub.status.idle": "2022-05-23T06:15:50.042807Z",
     "shell.execute_reply": "2022-05-23T06:15:50.042807Z"
    }
   },
   "outputs": [
    {
     "name": "stdout",
     "output_type": "stream",
     "text": [
      "Sentiment for nike\n",
      "POSTIVE: 3112\n",
      "NEGATIVE: 1820\n",
      "NEUTRAL: 3914\n"
     ]
    }
   ],
   "source": [
    "df1 = df[df['label'] == keywords[0]]\n",
    "\n",
    "s1 = f'Sentiment for {keywords[0]}'\n",
    "print(s1)\n",
    "print('POSTIVE: ' + str((df1['sentiment_type'] =='POSITIVE').sum()))\n",
    "print('NEGATIVE: ' + str((df1['sentiment_type'] =='NEGATIVE').sum()))\n",
    "print('NEUTRAL: ' + str((df1['sentiment_type'] =='NEUTRAL').sum()))"
   ]
  },
  {
   "cell_type": "code",
   "execution_count": 12,
   "id": "961e6709",
   "metadata": {
    "execution": {
     "iopub.execute_input": "2022-05-23T06:15:50.045833Z",
     "iopub.status.busy": "2022-05-23T06:15:50.044836Z",
     "iopub.status.idle": "2022-05-23T06:15:50.057885Z",
     "shell.execute_reply": "2022-05-23T06:15:50.057885Z"
    }
   },
   "outputs": [
    {
     "name": "stdout",
     "output_type": "stream",
     "text": [
      "No of rows:  8846\n"
     ]
    }
   ],
   "source": [
    "print('No of rows: ', df1.shape[0])"
   ]
  },
  {
   "cell_type": "code",
   "execution_count": 13,
   "id": "67d27bc4",
   "metadata": {
    "execution": {
     "iopub.execute_input": "2022-05-23T06:15:50.060878Z",
     "iopub.status.busy": "2022-05-23T06:15:50.060878Z",
     "iopub.status.idle": "2022-05-23T06:15:50.122007Z",
     "shell.execute_reply": "2022-05-23T06:15:50.120978Z"
    }
   },
   "outputs": [
    {
     "data": {
      "text/plain": [
       "<AxesSubplot:title={'center':'Sentiment for nike'}, ylabel='None'>"
      ]
     },
     "execution_count": 13,
     "metadata": {},
     "output_type": "execute_result"
    },
    {
     "data": {
      "image/png": "[encoded data removed]",
      "text/plain": [
       "<Figure size 432x288 with 1 Axes>"
      ]
     },
     "metadata": {},
     "output_type": "display_data"
    }
   ],
   "source": [
    "df1.groupby('sentiment_type').size().plot(kind='pie',  autopct='%1.2f%%', title=s1)"
   ]
  },
  {
   "cell_type": "code",
   "execution_count": 14,
   "id": "5f0425da",
   "metadata": {
    "execution": {
     "iopub.execute_input": "2022-05-23T06:15:50.125018Z",
     "iopub.status.busy": "2022-05-23T06:15:50.125018Z",
     "iopub.status.idle": "2022-05-23T06:15:50.137196Z",
     "shell.execute_reply": "2022-05-23T06:15:50.137196Z"
    }
   },
   "outputs": [
    {
     "name": "stdout",
     "output_type": "stream",
     "text": [
      "Sentiment for adidas\n",
      "POSTIVE: 3063\n",
      "NEGATIVE: 1390\n",
      "NEUTRAL: 3290\n"
     ]
    }
   ],
   "source": [
    "df2 = df[df['label'] == keywords[1]]\n",
    "\n",
    "s2 = f'Sentiment for {keywords[1]}'\n",
    "print(s2)\n",
    "print('POSTIVE: ' + str((df2['sentiment_type'] =='POSITIVE').sum()))\n",
    "print('NEGATIVE: ' + str((df2['sentiment_type'] =='NEGATIVE').sum()))\n",
    "print('NEUTRAL: ' + str((df2['sentiment_type'] =='NEUTRAL').sum()))"
   ]
  },
  {
   "cell_type": "code",
   "execution_count": 15,
   "id": "9de7284d",
   "metadata": {
    "execution": {
     "iopub.execute_input": "2022-05-23T06:15:50.140237Z",
     "iopub.status.busy": "2022-05-23T06:15:50.140237Z",
     "iopub.status.idle": "2022-05-23T06:15:50.152861Z",
     "shell.execute_reply": "2022-05-23T06:15:50.151830Z"
    }
   },
   "outputs": [
    {
     "name": "stdout",
     "output_type": "stream",
     "text": [
      "No of rows:  7743\n"
     ]
    }
   ],
   "source": [
    "print('No of rows: ', df2.shape[0])"
   ]
  },
  {
   "cell_type": "code",
   "execution_count": 16,
   "id": "d5701203",
   "metadata": {
    "execution": {
     "iopub.execute_input": "2022-05-23T06:15:50.155864Z",
     "iopub.status.busy": "2022-05-23T06:15:50.154852Z",
     "iopub.status.idle": "2022-05-23T06:15:50.215967Z",
     "shell.execute_reply": "2022-05-23T06:15:50.214970Z"
    }
   },
   "outputs": [
    {
     "data": {
      "text/plain": [
       "<AxesSubplot:title={'center':'Sentiment for adidas'}, ylabel='None'>"
      ]
     },
     "execution_count": 16,
     "metadata": {},
     "output_type": "execute_result"
    },
    {
     "data": {
      "image/png": "[encoded data removed]",
      "text/plain": [
       "<Figure size 432x288 with 1 Axes>"
      ]
     },
     "metadata": {},
     "output_type": "display_data"
    }
   ],
   "source": [
    "df2.groupby('sentiment_type').size().plot(kind='pie',  autopct='%1.2f%%', title=s2)"
   ]
  },
  {
   "cell_type": "code",
   "execution_count": 17,
   "id": "5406d6cb",
   "metadata": {
    "execution": {
     "iopub.execute_input": "2022-05-23T06:15:50.219987Z",
     "iopub.status.busy": "2022-05-23T06:15:50.218958Z",
     "iopub.status.idle": "2022-05-23T06:15:50.231151Z",
     "shell.execute_reply": "2022-05-23T06:15:50.232150Z"
    }
   },
   "outputs": [
    {
     "name": "stdout",
     "output_type": "stream",
     "text": [
      "Sentiment for nike AND adidas\n",
      "POSTIVE: 722\n",
      "NEGATIVE: 339\n",
      "NEUTRAL: 485\n"
     ]
    }
   ],
   "source": [
    "df3 = df[(df['label'] == f'{keywords[0]} and {keywords[1]}') | (df['label'] == f'{keywords[1]} and {keywords[0]}')]\n",
    "\n",
    "s3 = f'Sentiment for {keywords[0]} AND {keywords[1]}'\n",
    "print(s3)\n",
    "print('POSTIVE: ' + str((df3['sentiment_type'] =='POSITIVE').sum()))\n",
    "print('NEGATIVE: ' + str((df3['sentiment_type'] =='NEGATIVE').sum()))\n",
    "print('NEUTRAL: ' + str((df3['sentiment_type'] =='NEUTRAL').sum()))"
   ]
  },
  {
   "cell_type": "code",
   "execution_count": 18,
   "id": "c9f20e35",
   "metadata": {
    "execution": {
     "iopub.execute_input": "2022-05-23T06:15:50.235142Z",
     "iopub.status.busy": "2022-05-23T06:15:50.234179Z",
     "iopub.status.idle": "2022-05-23T06:15:50.246572Z",
     "shell.execute_reply": "2022-05-23T06:15:50.247604Z"
    }
   },
   "outputs": [
    {
     "name": "stdout",
     "output_type": "stream",
     "text": [
      "No of rows:  1546\n"
     ]
    }
   ],
   "source": [
    "print('No of rows: ', df3.shape[0])"
   ]
  },
  {
   "cell_type": "code",
   "execution_count": 19,
   "id": "4cdfc76d",
   "metadata": {
    "execution": {
     "iopub.execute_input": "2022-05-23T06:15:50.250564Z",
     "iopub.status.busy": "2022-05-23T06:15:50.249566Z",
     "iopub.status.idle": "2022-05-23T06:15:50.309694Z",
     "shell.execute_reply": "2022-05-23T06:15:50.309694Z"
    }
   },
   "outputs": [
    {
     "data": {
      "text/plain": [
       "<AxesSubplot:title={'center':'Sentiment for nike AND adidas'}, ylabel='None'>"
      ]
     },
     "execution_count": 19,
     "metadata": {},
     "output_type": "execute_result"
    },
    {
     "data": {
      "image/png": "[encoded data removed]",
      "text/plain": [
       "<Figure size 432x288 with 1 Axes>"
      ]
     },
     "metadata": {},
     "output_type": "display_data"
    }
   ],
   "source": [
    "df3.groupby('sentiment_type').size().plot(kind='pie',  autopct='%1.2f%%', title=s3)"
   ]
  },
  {
   "cell_type": "code",
   "execution_count": 20,
   "id": "198dfe47",
   "metadata": {
    "execution": {
     "iopub.execute_input": "2022-05-23T06:15:50.313683Z",
     "iopub.status.busy": "2022-05-23T06:15:50.313683Z",
     "iopub.status.idle": "2022-05-23T06:15:51.731938Z",
     "shell.execute_reply": "2022-05-23T06:15:51.731938Z"
    }
   },
   "outputs": [
    {
     "data": {
      "text/plain": [
       "sentiment_type\n",
       "NEGATIVE    AxesSubplot(0.125,0.2;0.775x0.68)\n",
       "NEUTRAL     AxesSubplot(0.125,0.2;0.775x0.68)\n",
       "POSITIVE    AxesSubplot(0.125,0.2;0.775x0.68)\n",
       "Name: values, dtype: object"
      ]
     },
     "execution_count": 20,
     "metadata": {},
     "output_type": "execute_result"
    },
    {
     "data": {
      "image/png": "[encoded data removed]",
      "text/plain": [
       "<Figure size 1080x360 with 1 Axes>"
      ]
     },
     "metadata": {
      "needs_background": "light"
     },
     "output_type": "display_data"
    }
   ],
   "source": [
    "df_time = df.groupby(['date','sentiment_type']).size()\n",
    "df_time = df_time.to_frame().reset_index()\n",
    "df_time = df_time.rename(columns={\"index\": \"date\", 0:\"values\"})\n",
    "\n",
    "df_time['date'] = pd.to_datetime(df_time['date'])\n",
    "df_time = df_time.set_index('date')\n",
    "df_mavg = df_time.groupby([pd.Grouper(freq='M'), 'sentiment_type'])['values'].sum()\n",
    "\n",
    "df_mavg = df_mavg.to_frame()\n",
    "df_mavg = df_mavg.reset_index()\n",
    "df_mavg.set_index('date', inplace=True)\n",
    "df_mavg.groupby('sentiment_type')['values'].plot(figsize=(15,5), legend=True, title=s)"
   ]
  },
  {
   "cell_type": "code",
   "execution_count": 21,
   "id": "c07738f7",
   "metadata": {
    "execution": {
     "iopub.execute_input": "2022-05-23T06:15:51.736957Z",
     "iopub.status.busy": "2022-05-23T06:15:51.735939Z",
     "iopub.status.idle": "2022-05-23T06:15:52.491065Z",
     "shell.execute_reply": "2022-05-23T06:15:52.491065Z"
    }
   },
   "outputs": [
    {
     "data": {
      "text/plain": [
       "sentiment_type\n",
       "NEGATIVE    AxesSubplot(0.125,0.2;0.775x0.68)\n",
       "NEUTRAL     AxesSubplot(0.125,0.2;0.775x0.68)\n",
       "POSITIVE    AxesSubplot(0.125,0.2;0.775x0.68)\n",
       "Name: values, dtype: object"
      ]
     },
     "execution_count": 21,
     "metadata": {},
     "output_type": "execute_result"
    },
    {
     "data": {
      "image/png": "[encoded data removed]",
      "text/plain": [
       "<Figure size 1080x360 with 1 Axes>"
      ]
     },
     "metadata": {
      "needs_background": "light"
     },
     "output_type": "display_data"
    }
   ],
   "source": [
    "df_time = df1.groupby(['date','sentiment_type']).size()\n",
    "df_time = df_time.to_frame().reset_index()\n",
    "df_time = df_time.rename(columns={\"index\": \"date\", 0:\"values\"})\n",
    "\n",
    "df_time['date'] = pd.to_datetime(df_time['date'])\n",
    "df_time = df_time.set_index('date')\n",
    "df_mavg = df_time.groupby([pd.Grouper(freq='M'), 'sentiment_type'])['values'].sum()\n",
    "\n",
    "df_mavg = df_mavg.to_frame()\n",
    "df_mavg = df_mavg.reset_index()\n",
    "df_mavg.set_index('date', inplace=True)\n",
    "df_mavg.groupby('sentiment_type')['values'].plot(figsize=(15,5), legend=True, title=s1)"
   ]
  },
  {
   "cell_type": "code",
   "execution_count": 22,
   "id": "df15cb6a",
   "metadata": {
    "execution": {
     "iopub.execute_input": "2022-05-23T06:15:52.495035Z",
     "iopub.status.busy": "2022-05-23T06:15:52.495035Z",
     "iopub.status.idle": "2022-05-23T06:15:53.218573Z",
     "shell.execute_reply": "2022-05-23T06:15:53.218573Z"
    }
   },
   "outputs": [
    {
     "data": {
      "text/plain": [
       "sentiment_type\n",
       "NEGATIVE    AxesSubplot(0.125,0.2;0.775x0.68)\n",
       "NEUTRAL     AxesSubplot(0.125,0.2;0.775x0.68)\n",
       "POSITIVE    AxesSubplot(0.125,0.2;0.775x0.68)\n",
       "Name: values, dtype: object"
      ]
     },
     "execution_count": 22,
     "metadata": {},
     "output_type": "execute_result"
    },
    {
     "data": {
      "image/png": "[encoded data removed]",
      "text/plain": [
       "<Figure size 1080x360 with 1 Axes>"
      ]
     },
     "metadata": {
      "needs_background": "light"
     },
     "output_type": "display_data"
    }
   ],
   "source": [
    "df_time = df2.groupby(['date','sentiment_type']).size()\n",
    "df_time = df_time.to_frame().reset_index()\n",
    "df_time = df_time.rename(columns={\"index\": \"date\", 0:\"values\"})\n",
    "\n",
    "df_time['date'] = pd.to_datetime(df_time['date'])\n",
    "df_time = df_time.set_index('date')\n",
    "df_mavg = df_time.groupby([pd.Grouper(freq='M'), 'sentiment_type'])['values'].sum()\n",
    "\n",
    "df_mavg = df_mavg.to_frame()\n",
    "df_mavg = df_mavg.reset_index()\n",
    "df_mavg.set_index('date', inplace=True)\n",
    "df_mavg.groupby('sentiment_type')['values'].plot(figsize=(15,5), legend=True, title=s2)"
   ]
  },
  {
   "cell_type": "code",
   "execution_count": 23,
   "id": "b1fdbdc1",
   "metadata": {
    "execution": {
     "iopub.execute_input": "2022-05-23T06:15:53.222555Z",
     "iopub.status.busy": "2022-05-23T06:15:53.222555Z",
     "iopub.status.idle": "2022-05-23T06:15:53.535782Z",
     "shell.execute_reply": "2022-05-23T06:15:53.536813Z"
    }
   },
   "outputs": [
    {
     "data": {
      "text/plain": [
       "sentiment_type\n",
       "NEGATIVE    AxesSubplot(0.125,0.2;0.775x0.68)\n",
       "NEUTRAL     AxesSubplot(0.125,0.2;0.775x0.68)\n",
       "POSITIVE    AxesSubplot(0.125,0.2;0.775x0.68)\n",
       "Name: values, dtype: object"
      ]
     },
     "execution_count": 23,
     "metadata": {},
     "output_type": "execute_result"
    },
    {
     "data": {
      "image/png": "[encoded data removed]",
      "text/plain": [
       "<Figure size 1080x360 with 1 Axes>"
      ]
     },
     "metadata": {
      "needs_background": "light"
     },
     "output_type": "display_data"
    }
   ],
   "source": [
    "df_time = df3.groupby(['date','sentiment_type']).size()\n",
    "df_time = df_time.to_frame().reset_index()\n",
    "df_time = df_time.rename(columns={\"index\": \"date\", 0:\"values\"})\n",
    "\n",
    "df_time['date'] = pd.to_datetime(df_time['date'])\n",
    "df_time = df_time.set_index('date')\n",
    "df_mavg = df_time.groupby([pd.Grouper(freq='M'), 'sentiment_type'])['values'].sum()\n",
    "\n",
    "df_mavg = df_mavg.to_frame()\n",
    "df_mavg = df_mavg.reset_index()\n",
    "df_mavg.set_index('date', inplace=True)\n",
    "df_mavg.groupby('sentiment_type')['values'].plot(figsize=(15,5), legend=True, title=s3)"
   ]
  },
  {
   "cell_type": "code",
   "execution_count": 24,
   "id": "dd9448d2",
   "metadata": {
    "execution": {
     "iopub.execute_input": "2022-05-23T06:15:53.539775Z",
     "iopub.status.busy": "2022-05-23T06:15:53.538777Z",
     "iopub.status.idle": "2022-05-23T06:15:53.925121Z",
     "shell.execute_reply": "2022-05-23T06:15:53.926118Z"
    }
   },
   "outputs": [],
   "source": [
    "df.to_csv('../result_sentiment.csv', index=False)"
   ]
  }
 ],
 "metadata": {
  "kernelspec": {
   "display_name": "Python 3 (ipykernel)",
   "language": "python",
   "name": "python3"
  },
  "language_info": {
   "codemirror_mode": {
    "name": "ipython",
    "version": 3
   },
   "file_extension": ".py",
   "mimetype": "text/x-python",
   "name": "python",
   "nbconvert_exporter": "python",
   "pygments_lexer": "ipython3",
   "version": "3.10.4"
  }
 },
 "nbformat": 4,
 "nbformat_minor": 5
}
